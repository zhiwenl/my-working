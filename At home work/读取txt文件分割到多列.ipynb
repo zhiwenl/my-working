{
 "cells": [
  {
   "cell_type": "code",
   "execution_count": 1,
   "metadata": {},
   "outputs": [],
   "source": [
    "import pandas as pd"
   ]
  },
  {
   "cell_type": "code",
   "execution_count": 83,
   "metadata": {},
   "outputs": [
    {
     "name": "stderr",
     "output_type": "stream",
     "text": [
      "D:\\anaconda3\\lib\\site-packages\\ipykernel_launcher.py:1: ParserWarning: Falling back to the 'python' engine because the 'c' engine does not support regex separators (separators > 1 char and different from '\\s+' are interpreted as regex); you can avoid this warning by specifying engine='python'.\n",
      "  \"\"\"Entry point for launching an IPython kernel.\n"
     ]
    }
   ],
   "source": [
    "ecoli=pd.read_table('./mydata/ecoli.txt',sep='/t',header=None)"
   ]
  },
  {
   "cell_type": "code",
   "execution_count": 84,
   "metadata": {},
   "outputs": [],
   "source": [
    "ecoli.columns=['1']\n",
    "ecoli['2']=None\n",
    "ecoli['3']=None\n",
    "ecoli['4']=None\n",
    "ecoli['5']=None\n",
    "ecoli['6']=None\n",
    "ecoli['7']=None\n",
    "ecoli['8']=None\n",
    "ecoli['9']=None"
   ]
  },
  {
   "cell_type": "code",
   "execution_count": 85,
   "metadata": {},
   "outputs": [
    {
     "name": "stdout",
     "output_type": "stream",
     "text": [
      "              1     2     3     4     5     6     7     8   9\n",
      "0     AAT_ECOLI  0.49  0.29  0.48  0.50  0.56  0.24  0.35  cp\n",
      "1    ACEA_ECOLI  0.07  0.40  0.48  0.50  0.54  0.35  0.44  cp\n",
      "2    ACEK_ECOLI  0.56  0.40  0.48  0.50  0.49  0.37  0.46  cp\n",
      "3    ACKA_ECOLI  0.59  0.49  0.48  0.50  0.52  0.45  0.36  cp\n",
      "4     ADI_ECOLI  0.23  0.32  0.48  0.50  0.55  0.25  0.35  cp\n",
      "..          ...   ...   ...   ...   ...   ...   ...   ...  ..\n",
      "331  TREA_ECOLI  0.74  0.56  0.48  0.50  0.47  0.68  0.30  pp\n",
      "332  UGPB_ECOLI  0.71  0.57  0.48  0.50  0.48  0.35  0.32  pp\n",
      "333  USHA_ECOLI  0.61  0.60  0.48  0.50  0.44  0.39  0.38  pp\n",
      "334  XYLF_ECOLI  0.59  0.61  0.48  0.50  0.42  0.42  0.37  pp\n",
      "335  YTFQ_ECOLI  0.74  0.74  0.48  0.50  0.31  0.53  0.52  pp\n",
      "\n",
      "[336 rows x 9 columns]\n"
     ]
    }
   ],
   "source": [
    "for i in range(len(ecoli)):         #遍历每一行    \n",
    "    coordinate = ecoli['1'][i].split() #分开第i行，x列的数据。split()默认是以空格等符号来分割，返回一个列表    \n",
    "    ecoli['1'][i]=coordinate[0]        #分割形成的列表第一个数据给第一列    \n",
    "    ecoli['2'][i]=coordinate[1]        #分割形成的列表第二个数据给第二列\n",
    "    ecoli['3'][i]=coordinate[2]\n",
    "    ecoli['4'][i]=coordinate[3]\n",
    "    ecoli['5'][i]=coordinate[4]\n",
    "    ecoli['6'][i]=coordinate[5]\n",
    "    ecoli['7'][i]=coordinate[6]\n",
    "    ecoli['8'][i]=coordinate[7]\n",
    "    ecoli['9'][i]=coordinate[8]\n",
    "print(ecoli)"
   ]
  },
  {
   "cell_type": "code",
   "execution_count": 92,
   "metadata": {},
   "outputs": [],
   "source": [
    "ecoli2=ecoli[['2','3','4','5','6','7','8','9']]"
   ]
  },
  {
   "cell_type": "code",
   "execution_count": 96,
   "metadata": {},
   "outputs": [],
   "source": [
    "ecoli2.to_csv('./mydata/ecoli.csv',index=False)"
   ]
  },
  {
   "cell_type": "code",
   "execution_count": 4,
   "metadata": {},
   "outputs": [],
   "source": [
    "letter=pd.read_table('./mydata/letter.txt',sep=',',header=None)"
   ]
  },
  {
   "cell_type": "code",
   "execution_count": 7,
   "metadata": {},
   "outputs": [],
   "source": [
    "letter.to_csv('./mydata/letter.csv',index=False)"
   ]
  },
  {
   "cell_type": "code",
   "execution_count": null,
   "metadata": {},
   "outputs": [],
   "source": []
  }
 ],
 "metadata": {
  "kernelspec": {
   "display_name": "Python 3",
   "language": "python",
   "name": "python3"
  },
  "language_info": {
   "codemirror_mode": {
    "name": "ipython",
    "version": 3
   },
   "file_extension": ".py",
   "mimetype": "text/x-python",
   "name": "python",
   "nbconvert_exporter": "python",
   "pygments_lexer": "ipython3",
   "version": "3.7.4"
  }
 },
 "nbformat": 4,
 "nbformat_minor": 2
}
