{
 "cells": [
  {
   "cell_type": "code",
   "execution_count": 11,
   "metadata": {},
   "outputs": [],
   "source": [
    "import pandas as pd \n",
    "import numpy as np\n",
    "df=pd.read_csv('./mydata/16-17处理.csv',engine='python',encoding='utf-8')"
   ]
  },
  {
   "cell_type": "code",
   "execution_count": 12,
   "metadata": {},
   "outputs": [
    {
     "data": {
      "text/plain": [
       "50     382\n",
       "40     272\n",
       "100    243\n",
       "25     220\n",
       "15     119\n",
       "150     83\n",
       "20      78\n",
       "200     37\n",
       "80      19\n",
       "300      5\n",
       "250      1\n",
       "Name: 水表口径, dtype: int64"
      ]
     },
     "execution_count": 12,
     "metadata": {},
     "output_type": "execute_result"
    }
   ],
   "source": [
    "df.水表口径.value_counts()"
   ]
  },
  {
   "cell_type": "code",
   "execution_count": 13,
   "metadata": {},
   "outputs": [
    {
     "data": {
      "text/plain": [
       "50     382\n",
       "40     272\n",
       "100    243\n",
       "25     220\n",
       "15     119\n",
       "150     83\n",
       "20      78\n",
       "200     37\n",
       "80      19\n",
       "Name: 水表口径, dtype: int64"
      ]
     },
     "execution_count": 13,
     "metadata": {},
     "output_type": "execute_result"
    }
   ],
   "source": [
    "data=df[~df.水表口径.isin([250,300])] #删除较少类别的样本\n",
    "data.reset_index(drop=True,inplace=True)\n",
    "data.水表口径.value_counts()"
   ]
  },
  {
   "cell_type": "markdown",
   "metadata": {},
   "source": [
    "#随机森林预测"
   ]
  },
  {
   "cell_type": "code",
   "execution_count": 14,
   "metadata": {},
   "outputs": [
    {
     "name": "stderr",
     "output_type": "stream",
     "text": [
      "D:\\Anaconda3\\lib\\site-packages\\ipykernel_launcher.py:16: DataConversionWarning: A column-vector y was passed when a 1d array was expected. Please change the shape of y to (n_samples,), for example using ravel().\n",
      "  app.launch_new_instance()\n"
     ]
    },
    {
     "name": "stdout",
     "output_type": "stream",
     "text": [
      "              precision    recall  f1-score   support\n",
      "\n",
      "          15       0.39      0.44      0.42        36\n",
      "          20       0.00      0.00      0.00        23\n",
      "          25       0.28      0.32      0.30        66\n",
      "          40       0.22      0.20      0.21        81\n",
      "          50       0.36      0.50      0.42       115\n",
      "          80       0.00      0.00      0.00         6\n",
      "         100       0.59      0.40      0.48        73\n",
      "         150       0.54      0.56      0.55        25\n",
      "         200       0.44      0.36      0.40        11\n",
      "\n",
      "    accuracy                           0.36       436\n",
      "   macro avg       0.31      0.31      0.31       436\n",
      "weighted avg       0.35      0.36      0.35       436\n",
      "\n",
      "混淆矩阵:\n",
      "[[16  0 12  5  3  0  0  0  0]\n",
      " [ 5  0 10  7  1  0  0  0  0]\n",
      " [ 9  2 21 16 18  0  0  0  0]\n",
      " [ 5  1 17 16 40  0  2  0  0]\n",
      " [ 4  2 13 26 58  0 12  0  0]\n",
      " [ 0  0  0  0  4  0  2  0  0]\n",
      " [ 2  0  1  2 29  0 29  7  3]\n",
      " [ 0  0  0  0  6  0  3 14  2]\n",
      " [ 0  0  0  0  1  0  1  5  4]]\n"
     ]
    },
    {
     "name": "stderr",
     "output_type": "stream",
     "text": [
      "D:\\Anaconda3\\lib\\site-packages\\sklearn\\metrics\\classification.py:1437: UndefinedMetricWarning: Precision and F-score are ill-defined and being set to 0.0 in labels with no predicted samples.\n",
      "  'precision', 'predicted', average, warn_for)\n"
     ]
    }
   ],
   "source": [
    "from sklearn.ensemble import RandomForestClassifier \n",
    "from sklearn.metrics import classification_report\n",
    "from sklearn.metrics import confusion_matrix    # 生成混淆矩阵函数\n",
    "from sklearn import metrics\n",
    "from sklearn.model_selection import StratifiedShuffleSplit\n",
    " \n",
    "split=StratifiedShuffleSplit(n_splits=1,test_size=0.3,random_state=42)\n",
    "for train_index,test_index in split.split(data,data['水表口径']):\n",
    "    train_set=data.loc[train_index]\n",
    "    test_set=data.loc[test_index]\n",
    "X_train=train_set.drop(['用户ID','水表口径','用水性质'],axis=1)\n",
    "y_train=train_set[['水表口径']]\n",
    "X_test=test_set.drop(['用户ID','水表口径','用水性质'],axis=1)\n",
    "y_test=test_set[['水表口径']]\n",
    "rf=RandomForestClassifier(n_estimators=100,random_state=42)\n",
    "rf.fit(X_train,y_train)\n",
    "y_pre=rf.predict(X_test)\n",
    "print(classification_report(y_test,y_pre))\n",
    "print('混淆矩阵:')\n",
    "print(confusion_matrix(y_test,y_pre))"
   ]
  },
  {
   "cell_type": "markdown",
   "metadata": {},
   "source": [
    "#将标签值作为特征,提高精度"
   ]
  },
  {
   "cell_type": "code",
   "execution_count": 15,
   "metadata": {},
   "outputs": [
    {
     "name": "stderr",
     "output_type": "stream",
     "text": [
      "D:\\Anaconda3\\lib\\site-packages\\ipykernel_launcher.py:11: DataConversionWarning: A column-vector y was passed when a 1d array was expected. Please change the shape of y to (n_samples,), for example using ravel().\n",
      "  # This is added back by InteractiveShellApp.init_path()\n"
     ]
    },
    {
     "name": "stdout",
     "output_type": "stream",
     "text": [
      "              precision    recall  f1-score   support\n",
      "\n",
      "          15       1.00      0.97      0.99        36\n",
      "          20       0.94      0.74      0.83        23\n",
      "          25       0.90      0.95      0.93        66\n",
      "          40       0.99      0.99      0.99        81\n",
      "          50       0.96      0.99      0.97       115\n",
      "          80       1.00      0.33      0.50         6\n",
      "         100       0.88      0.95      0.91        73\n",
      "         150       0.88      0.92      0.90        25\n",
      "         200       1.00      0.64      0.78        11\n",
      "\n",
      "    accuracy                           0.94       436\n",
      "   macro avg       0.95      0.83      0.87       436\n",
      "weighted avg       0.94      0.94      0.94       436\n",
      "\n",
      "混淆矩阵:\n",
      "[[ 35   0   1   0   0   0   0   0   0]\n",
      " [  0  17   6   0   0   0   0   0   0]\n",
      " [  0   1  63   1   1   0   0   0   0]\n",
      " [  0   0   0  80   1   0   0   0   0]\n",
      " [  0   0   0   0 114   0   1   0   0]\n",
      " [  0   0   0   0   0   2   4   0   0]\n",
      " [  0   0   0   0   3   0  69   1   0]\n",
      " [  0   0   0   0   0   0   2  23   0]\n",
      " [  0   0   0   0   0   0   2   2   7]]\n"
     ]
    }
   ],
   "source": [
    "Dn=[]\n",
    "split=StratifiedShuffleSplit(n_splits=1,test_size=0.3,random_state=33)\n",
    "for train_index,test_index in split.split(data,data['水表口径']):\n",
    "    train_set=data.loc[train_index]\n",
    "    test_set=data.loc[test_index]\n",
    "X_train=train_set.drop(['用户ID','用水性质'],axis=1) #保留水表口径作为特征\n",
    "y_train=train_set[['水表口径']]\n",
    "X_test=test_set.drop(['用户ID','用水性质'],axis=1) #保留水表口径作为特征\n",
    "y_test=test_set[['水表口径']]\n",
    "rf=RandomForestClassifier(n_estimators=100,random_state=42,max_features='sqrt')\n",
    "rf.fit(X_train,y_train)\n",
    "y_pre=rf.predict(X_test)\n",
    "print(classification_report(y_test,y_pre))\n",
    "print('混淆矩阵:')\n",
    "print(confusion_matrix(y_test,y_pre))\n"
   ]
  },
  {
   "cell_type": "code",
   "execution_count": 16,
   "metadata": {},
   "outputs": [],
   "source": [
    "for i in X_test.index:\n",
    "    if int(rf.predict(X_test[X_test.index==i])) != int(y_test[y_test.index==i].水表口径) : \n",
    "        Dn.append(i)"
   ]
  },
  {
   "cell_type": "code",
   "execution_count": 17,
   "metadata": {},
   "outputs": [],
   "source": [
    "test_set['predict']=y_pre"
   ]
  },
  {
   "cell_type": "code",
   "execution_count": 18,
   "metadata": {},
   "outputs": [],
   "source": [
    "Dn=[]\n",
    "for i in test_set.index:\n",
    "    if int(test_set[test_set.index==i].水表口径) != int(test_set[test_set.index==i].predict):\n",
    "        Dn.append(i)"
   ]
  },
  {
   "cell_type": "code",
   "execution_count": 19,
   "metadata": {},
   "outputs": [],
   "source": [
    "noise= test_set[test_set.index.isin(Dn)]"
   ]
  },
  {
   "cell_type": "code",
   "execution_count": 23,
   "metadata": {},
   "outputs": [
    {
     "data": {
      "text/html": [
       "<div>\n",
       "<style scoped>\n",
       "    .dataframe tbody tr th:only-of-type {\n",
       "        vertical-align: middle;\n",
       "    }\n",
       "\n",
       "    .dataframe tbody tr th {\n",
       "        vertical-align: top;\n",
       "    }\n",
       "\n",
       "    .dataframe thead th {\n",
       "        text-align: right;\n",
       "    }\n",
       "</style>\n",
       "<table border=\"1\" class=\"dataframe\">\n",
       "  <thead>\n",
       "    <tr style=\"text-align: right;\">\n",
       "      <th></th>\n",
       "      <th>用户ID</th>\n",
       "      <th>水表口径</th>\n",
       "      <th>用水性质</th>\n",
       "      <th>1</th>\n",
       "      <th>2</th>\n",
       "      <th>3</th>\n",
       "      <th>4</th>\n",
       "      <th>5</th>\n",
       "      <th>6</th>\n",
       "      <th>7</th>\n",
       "      <th>...</th>\n",
       "      <th>16</th>\n",
       "      <th>17</th>\n",
       "      <th>18</th>\n",
       "      <th>19</th>\n",
       "      <th>20</th>\n",
       "      <th>21</th>\n",
       "      <th>22</th>\n",
       "      <th>23</th>\n",
       "      <th>24</th>\n",
       "      <th>predict</th>\n",
       "    </tr>\n",
       "  </thead>\n",
       "  <tbody>\n",
       "    <tr>\n",
       "      <td>1384</td>\n",
       "      <td>3918107722</td>\n",
       "      <td>40</td>\n",
       "      <td>工矿企业</td>\n",
       "      <td>1940.0</td>\n",
       "      <td>3250.0</td>\n",
       "      <td>2202.0</td>\n",
       "      <td>2491.0</td>\n",
       "      <td>2332.0</td>\n",
       "      <td>2394.0</td>\n",
       "      <td>2394.0</td>\n",
       "      <td>...</td>\n",
       "      <td>2340.0</td>\n",
       "      <td>2326.0</td>\n",
       "      <td>2233.0</td>\n",
       "      <td>2470.0</td>\n",
       "      <td>2472.0</td>\n",
       "      <td>2394.0</td>\n",
       "      <td>2203.0</td>\n",
       "      <td>2524.0</td>\n",
       "      <td>2221.0</td>\n",
       "      <td>50</td>\n",
       "    </tr>\n",
       "    <tr>\n",
       "      <td>1012</td>\n",
       "      <td>3846078722</td>\n",
       "      <td>200</td>\n",
       "      <td>居民合表</td>\n",
       "      <td>4417.0</td>\n",
       "      <td>5299.0</td>\n",
       "      <td>4397.0</td>\n",
       "      <td>6386.0</td>\n",
       "      <td>6949.0</td>\n",
       "      <td>6646.0</td>\n",
       "      <td>6187.0</td>\n",
       "      <td>...</td>\n",
       "      <td>9715.0</td>\n",
       "      <td>9561.0</td>\n",
       "      <td>9632.0</td>\n",
       "      <td>9596.0</td>\n",
       "      <td>8474.0</td>\n",
       "      <td>9395.0</td>\n",
       "      <td>10107.0</td>\n",
       "      <td>11836.0</td>\n",
       "      <td>11103.0</td>\n",
       "      <td>150</td>\n",
       "    </tr>\n",
       "    <tr>\n",
       "      <td>743</td>\n",
       "      <td>3242202422</td>\n",
       "      <td>25</td>\n",
       "      <td>工矿企业</td>\n",
       "      <td>14.0</td>\n",
       "      <td>10.0</td>\n",
       "      <td>8.0</td>\n",
       "      <td>18.0</td>\n",
       "      <td>10.0</td>\n",
       "      <td>20.0</td>\n",
       "      <td>12.0</td>\n",
       "      <td>...</td>\n",
       "      <td>10.0</td>\n",
       "      <td>13.0</td>\n",
       "      <td>9.0</td>\n",
       "      <td>11.0</td>\n",
       "      <td>20.0</td>\n",
       "      <td>82.0</td>\n",
       "      <td>14.0</td>\n",
       "      <td>45.0</td>\n",
       "      <td>19.0</td>\n",
       "      <td>20</td>\n",
       "    </tr>\n",
       "    <tr>\n",
       "      <td>693</td>\n",
       "      <td>3217999022</td>\n",
       "      <td>200</td>\n",
       "      <td>工矿企业</td>\n",
       "      <td>3280.0</td>\n",
       "      <td>4000.0</td>\n",
       "      <td>3230.0</td>\n",
       "      <td>4000.0</td>\n",
       "      <td>3650.0</td>\n",
       "      <td>3910.0</td>\n",
       "      <td>3910.0</td>\n",
       "      <td>...</td>\n",
       "      <td>740.0</td>\n",
       "      <td>770.0</td>\n",
       "      <td>830.0</td>\n",
       "      <td>980.0</td>\n",
       "      <td>1490.0</td>\n",
       "      <td>1290.0</td>\n",
       "      <td>810.0</td>\n",
       "      <td>980.0</td>\n",
       "      <td>1000.0</td>\n",
       "      <td>100</td>\n",
       "    </tr>\n",
       "    <tr>\n",
       "      <td>958</td>\n",
       "      <td>3843539322</td>\n",
       "      <td>80</td>\n",
       "      <td>商贸服务</td>\n",
       "      <td>360.0</td>\n",
       "      <td>400.0</td>\n",
       "      <td>598.0</td>\n",
       "      <td>714.0</td>\n",
       "      <td>427.0</td>\n",
       "      <td>461.0</td>\n",
       "      <td>416.0</td>\n",
       "      <td>...</td>\n",
       "      <td>678.0</td>\n",
       "      <td>579.0</td>\n",
       "      <td>857.0</td>\n",
       "      <td>374.0</td>\n",
       "      <td>728.0</td>\n",
       "      <td>322.0</td>\n",
       "      <td>674.0</td>\n",
       "      <td>268.0</td>\n",
       "      <td>611.0</td>\n",
       "      <td>100</td>\n",
       "    </tr>\n",
       "  </tbody>\n",
       "</table>\n",
       "<p>5 rows × 28 columns</p>\n",
       "</div>"
      ],
      "text/plain": [
       "            用户ID  水表口径  用水性质       1       2       3       4       5       6  \\\n",
       "1384  3918107722    40  工矿企业  1940.0  3250.0  2202.0  2491.0  2332.0  2394.0   \n",
       "1012  3846078722   200  居民合表  4417.0  5299.0  4397.0  6386.0  6949.0  6646.0   \n",
       "743   3242202422    25  工矿企业    14.0    10.0     8.0    18.0    10.0    20.0   \n",
       "693   3217999022   200  工矿企业  3280.0  4000.0  3230.0  4000.0  3650.0  3910.0   \n",
       "958   3843539322    80  商贸服务   360.0   400.0   598.0   714.0   427.0   461.0   \n",
       "\n",
       "           7  ...      16      17      18      19      20      21       22  \\\n",
       "1384  2394.0  ...  2340.0  2326.0  2233.0  2470.0  2472.0  2394.0   2203.0   \n",
       "1012  6187.0  ...  9715.0  9561.0  9632.0  9596.0  8474.0  9395.0  10107.0   \n",
       "743     12.0  ...    10.0    13.0     9.0    11.0    20.0    82.0     14.0   \n",
       "693   3910.0  ...   740.0   770.0   830.0   980.0  1490.0  1290.0    810.0   \n",
       "958    416.0  ...   678.0   579.0   857.0   374.0   728.0   322.0    674.0   \n",
       "\n",
       "           23       24  predict  \n",
       "1384   2524.0   2221.0       50  \n",
       "1012  11836.0  11103.0      150  \n",
       "743      45.0     19.0       20  \n",
       "693     980.0   1000.0      100  \n",
       "958     268.0    611.0      100  \n",
       "\n",
       "[5 rows x 28 columns]"
      ]
     },
     "execution_count": 23,
     "metadata": {},
     "output_type": "execute_result"
    }
   ],
   "source": [
    "noise.head()"
   ]
  },
  {
   "cell_type": "code",
   "execution_count": null,
   "metadata": {},
   "outputs": [],
   "source": []
  }
 ],
 "metadata": {
  "kernelspec": {
   "display_name": "Python 3",
   "language": "python",
   "name": "python3"
  },
  "language_info": {
   "codemirror_mode": {
    "name": "ipython",
    "version": 3
   },
   "file_extension": ".py",
   "mimetype": "text/x-python",
   "name": "python",
   "nbconvert_exporter": "python",
   "pygments_lexer": "ipython3",
   "version": "3.7.4"
  }
 },
 "nbformat": 4,
 "nbformat_minor": 2
}
