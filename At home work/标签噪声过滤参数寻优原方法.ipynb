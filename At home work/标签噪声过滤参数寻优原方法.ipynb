{
 "cells": [
  {
   "cell_type": "code",
   "execution_count": 1,
   "metadata": {},
   "outputs": [],
   "source": [
    "class Node:\n",
    "    def __init__(self, data, depth=0, lchild=None, rchild=None):\n",
    "        self.data = data\n",
    "        self.depth = depth\n",
    "        self.lchild = lchild\n",
    "        self.rchild = rchild\n",
    "\n",
    "\n",
    "class KdTree:\n",
    "    def __init__(self):\n",
    "        self.KdTree = None\n",
    "        self.n = 0\n",
    "        self.nearest = None\n",
    "\n",
    "    def create(self, dataSet, depth=0):\n",
    "        if len(dataSet) > 0:\n",
    "            m, n = np.shape(dataSet)\n",
    "            self.n = n - 1\n",
    "            axis = depth % self.n\n",
    "            mid = int(m / 2)\n",
    "            dataSetcopy = sorted(dataSet, key=lambda x: x[axis])\n",
    "            node = Node(dataSetcopy[mid], depth)\n",
    "            if depth == 0:\n",
    "                self.KdTree = node\n",
    "            node.lchild = self.create(dataSetcopy[:mid], depth+1)\n",
    "            node.rchild = self.create(dataSetcopy[mid+1:], depth+1)\n",
    "            return node\n",
    "        return None\n",
    "\n",
    "    def preOrder(self, node):\n",
    "        if node is not None:\n",
    "            print(node.depth, node.data)\n",
    "            self.preOrder(node.lchild)\n",
    "            self.preOrder(node.rchild)\n",
    "\n",
    "    def search(self, x, count=1):\n",
    "        nearest = []\n",
    "        for i in range(count):\n",
    "            nearest.append([-1, None])\n",
    "        self.nearest = np.array(nearest)\n",
    "\n",
    "        def recurve(node):\n",
    "            if node is not None:\n",
    "                axis = node.depth % self.n\n",
    "                daxis = x[axis] - node.data[axis]\n",
    "                if daxis < 0:\n",
    "                    recurve(node.lchild)\n",
    "                else:\n",
    "                    recurve(node.rchild)\n",
    "\n",
    "                dist = sqrt(sum((p1 - p2) ** 2 for p1, p2 in zip(x, node.data)))\n",
    "                for i, d in enumerate(self.nearest):\n",
    "                    if d[0] < 0 or dist < d[0]:\n",
    "                        self.nearest = np.insert(self.nearest, i, [dist, node], axis=0)\n",
    "                        self.nearest = self.nearest[:-1]\n",
    "                        break\n",
    "\n",
    "                n = list(self.nearest[:, 0]).count(-1)\n",
    "                if self.nearest[-n-1, 0] > abs(daxis):\n",
    "                    if daxis < 0:\n",
    "                        recurve(node.rchild)\n",
    "                    else:\n",
    "                        recurve(node.lchild)\n",
    "\n",
    "        recurve(self.KdTree)\n",
    "\n",
    "        knn = self.nearest[:, 1]\n",
    "        belong = []\n",
    "        return self.nearest"
   ]
  },
  {
   "cell_type": "code",
   "execution_count": 2,
   "metadata": {},
   "outputs": [],
   "source": [
    "import numpy as np\n",
    "from math import sqrt\n",
    "import pandas as pd\n",
    "import matplotlib.pyplot as plt\n",
    "import seaborn as sns\n",
    "import mpl_toolkits.axisartist.axislines as axislines\n",
    "import matplotlib as mpl\n",
    "from sklearn import preprocessing\n",
    "min_max_scaler=preprocessing.MinMaxScaler()\n",
    "mpl.rcParams['font.sans-serif'] = [u'SimHei']\n",
    "mpl.rcParams['axes.unicode_minus'] = False\n",
    "from sklearn.model_selection import KFold\n",
    "kf=KFold(n_splits=10)\n",
    "def RDS(df):\n",
    "    data=np.array(df)\n",
    "    data2=np.array(df.drop('label',axis=1))\n",
    "    rate=0.1\n",
    "    dmax=[]\n",
    "    for m in range(0,len(data2)-1):\n",
    "        for n in range(m+1,len(data2)):\n",
    "            dmax.append(sqrt(sum((data2[m] - data2[n]) ** 2 )))\n",
    "    F1=[]\n",
    "    for k in range(1,21):\n",
    "        x1 = np.array([[1,1],[1,-1]])\n",
    "        x2 = np.array([1,np.floor(k / 3)/ k])\n",
    "        (Ps_,Pd_)=np.linalg.solve(x1,x2)\n",
    "        H_ = -Ps_* np.log2(Ps_)-Pd_*np.log2(Pd_) #标签混合程度阈值\n",
    "        temp_k=[]\n",
    "        for d in range(10,11):\n",
    "            a=np.percentile(dmax,d) #密度阈值\n",
    "            temp_d=[]\n",
    "            for train_index, test_index in kf.split(data):\n",
    "                train=data[train_index]\n",
    "                test=data[test_index]\n",
    "                train=pd.DataFrame(train)\n",
    "                train.columns=df.columns\n",
    "                Dn,Dn_filted= [],[]\n",
    "                noise_set=pd.DataFrame(columns=train.columns)\n",
    "                label_set=list(set(train.label))\n",
    "                for r in label_set:    \n",
    "                    noise_set=pd.concat([noise_set,train[train.label==r].sample(frac=rate, replace=False)]) #选取噪声比例 \n",
    "                train_cut=train[~train.index.isin(noise_set.index)]\n",
    "                no=[]\n",
    "                for j in range(0,len(noise_set)):\n",
    "                    no.append(np.random.choice(label_set))\n",
    "                noise_set['label2']=no\n",
    "                noise_set.reset_index(drop=True,inplace=True)\n",
    "                for l in range(0,len(noise_set)):  #随机替换标签\n",
    "                    label_set=list(set(train.label))\n",
    "                    if (noise_set.loc[l,'label']==noise_set.loc[l,'label2']):\n",
    "                        label_set.remove(noise_set.loc[l,'label'])\n",
    "                        noise_set.loc[l,'label2']=np.random.choice(label_set) #从剩余列表中随机选择\n",
    "                noise=noise_set.drop(['label'],axis=1)\n",
    "                noise.rename(columns={'label2':'label'}, inplace = True)\n",
    "                train= pd.concat([train_cut,noise],axis=0,ignore_index=True) #含噪声数据集\n",
    "                train_set=np.array(train)\n",
    "                kdt = KdTree()\n",
    "                kdt.create(train_set)  \n",
    "                for x in train_set:\n",
    "                    near = kdt.search(x[:-1], k+1)  # 设置临近点的个数\n",
    "                    density = 0\n",
    "                    t,hon,hen,dist_hon,dist_hen,DoD,DRL= 0,0,0,0,0,0,0\n",
    "                    for i in range(1,k+1):\n",
    "                        if x[-1] == near[i][1].data[-1]:\n",
    "                            t += 1\n",
    "                            hon += 1\n",
    "                            dist_hon += near[i][0]\n",
    "                        else:\n",
    "                            hen += 1\n",
    "                            dist_hen += near[i][0]\n",
    "                        density += near[i][0]  #密度   \n",
    "\n",
    "                    DoD = abs(dist_hen - dist_hon) #相异性差值(要加绝对值)\n",
    "                    DRL = (hen - hon)  #标签异同差   \n",
    "                    Ps = t / k\n",
    "                    Pd = 1 - Ps\n",
    "                    if (Ps==1)|(Ps==0):\n",
    "                        H = 0\n",
    "                    else:\n",
    "                        H = -Ps* np.log2(Ps)-Pd*np.log2(Pd)\n",
    "                  #  print('densit:',density)\n",
    "                    if (density <= a): #高密度区域\n",
    "                        if DRL > 0:\n",
    "                            Dn.append(list(x))\n",
    "                    else:\n",
    "                        if (H < H_): #低密度单一标签区域\n",
    "                            if DRL > 0:\n",
    "                                Dn.append(list(x))\n",
    "                               # print('低密度单一标签噪声')\n",
    "                        else: #低密度混合标签区  \n",
    "                            DoD_ = density / k\n",
    "                            if DoD >= DoD_:\n",
    "                                train_hon,train_hen=[],[]\n",
    "                                for j in train_set:\n",
    "                                    if j[-1]==x[-1]:\n",
    "                                        train_hon.append(j)\n",
    "                                    else:\n",
    "                                        train_hen.append(j)\n",
    "                                kdt_hon=KdTree()\n",
    "                                kdt_hen=KdTree()\n",
    "                                kdt_hon.create(train_hon)\n",
    "                                kdt_hen.create(train_hen)\n",
    "                                near_hon=kdt_hon.search(x,k+1)\n",
    "                                near_hen=kdt_hen.search(x,k)\n",
    "                                density_hon,density_hen=0,0\n",
    "                                for hon in near_hon:\n",
    "                                    density_hon += hon[0]\n",
    "                                for hen in near_hen:\n",
    "                                    density_hen += hen[0]\n",
    "                                if density_hon / density_hen > 1:\n",
    "                                        Dn.append(list(x))                 \n",
    "                noise_neighbor=[]                   \n",
    "                for e in Dn:  # 计算噪声分数\n",
    "                    e=np.array(e)\n",
    "                    near2=kdt.search(e[:-1],k+1) #k近邻\n",
    "                    for i in range(1,k+1):\n",
    "                        noise_neighbor.append(list(near2[i][1].data))\n",
    "                for e in Dn:\n",
    "                    e=np.array(e)\n",
    "                    near3=kdt.search(e[:-1],k+1)\n",
    "                    t_e=noise_neighbor.count(list(e)) #处于其它噪声近邻的次数\n",
    "                    confidence_e= 1 / np.sqrt(1+t_e*t_e)#e的置信度\n",
    "                    neighborhood_e=0\n",
    "                    for i in range(1,k+1):\n",
    "                        t_ei=noise_neighbor.count(list(near3[i][1].data))\n",
    "                        confidence_ei=1 / np.sqrt(1+t_ei*t_ei) \n",
    "                        if near3[i][1].data[-1]==e[-1]:\n",
    "                            different_class=-1\n",
    "                        else:\n",
    "                            different_class=1\n",
    "                        if list(near3[i][1].data) in Dn: \n",
    "                            isnoise=1\n",
    "                        else:\n",
    "                            isnoise=-1\n",
    "                        near4=kdt.search(near3[i][1].data[:-1],k+1)\n",
    "                        n_ei=0\n",
    "                        for j in range(1,k+1):\n",
    "                            if list(near4[j][1].data) in Dn:\n",
    "                                n_ei += 1\n",
    "                        clean_ei= (k + isnoise*(n_ei- k)) / (2*k) #纯净度\n",
    "                        neighborhood_e += (clean_ei*confidence_ei*different_class)/k \n",
    "                    NS_e=confidence_e * neighborhood_e #噪声得分\n",
    "                    if NS_e > 0:\n",
    "                        Dn_filted.append(list(e))\n",
    "                noise_list=noise.values.tolist()\n",
    "                TP = 0\n",
    "                for c in Dn_filted:\n",
    "                    if c in noise_list:\n",
    "                        TP += 1\n",
    "                FP = len(Dn_filted) - TP\n",
    "                FN = len(noise_list) - TP\n",
    "                precision= TP / (TP + FP)\n",
    "                recall= TP / (TP + FN)\n",
    "                f1=2 * (precision * recall) / (precision + recall)\n",
    "                temp_d.append(f1) \n",
    "            for i in range(40):\n",
    "                temp_k.append(np.mean(temp_d))\n",
    "        F1.append(temp_k)#F1值\n",
    "    return F1"
   ]
  },
  {
   "cell_type": "code",
   "execution_count": 3,
   "metadata": {},
   "outputs": [],
   "source": [
    "def plot_fscore(F_score,title):\n",
    "    F_source=pd.DataFrame(F_score)\n",
    "    f, ax = plt.subplots(figsize=(3,2))\n",
    "#cmap = sns.cubehelix_palette(start = 1.5, rot = 3, gamma=0.8, as_cmap = True)\n",
    "    h=sns.heatmap(F_source, linewidths = 0.01, ax=ax,cbar=False)\n",
    "    font = {'family' : 'serif',\n",
    "            'color'  : 'black',\n",
    "            'weight' : 'normal',\n",
    "            'size'   : 14,\n",
    "            }\n",
    "    cb=h.figure.colorbar(h.collections[0])\n",
    "    cb.ax.tick_params(labelsize=12)#设置色标刻度字体大小\n",
    "    cb.set_label('F1',fontdict=font)\n",
    "    ax.set_title(title,fontsize=14,x=0.5,y=-0.5)\n",
    "    ax.set_xlabel('a',fontsize=14)\n",
    "    ax.set_ylabel('k',fontsize=14)\n",
    "    ax.axis([0,40,0,20])\n",
    "    plt.xticks([0,10,20,30,40],['0','10','20','30','40'],fontsize=12)                         \n",
    "    plt.yticks([10,20],['10','20'],fontsize=12)\n",
    "    plt.show()"
   ]
  },
  {
   "cell_type": "markdown",
   "metadata": {},
   "source": [
    "#鸢尾花数据集"
   ]
  },
  {
   "cell_type": "code",
   "execution_count": 4,
   "metadata": {},
   "outputs": [
    {
     "data": {
      "image/png": "[encoded data removed]",
      "text/plain": [
       "<Figure size 216x144 with 2 Axes>"
      ]
     },
     "metadata": {},
     "output_type": "display_data"
    },
    {
     "name": "stdout",
     "output_type": "stream",
     "text": [
      "Wall time: 3min 18s\n"
     ]
    }
   ],
   "source": [
    "%%time\n",
    "from sklearn.datasets import load_iris\n",
    "iris = load_iris()\n",
    "iris_sample= pd.DataFrame(iris.data, columns=iris.feature_names)\n",
    "iris_sample['label'] = iris.target\n",
    "iris_sample=iris_sample.drop_duplicates()\n",
    "iris_F1=RDS(iris_sample)\n",
    "plot_fscore(iris_F1,'(a)Iris')"
   ]
  },
  {
   "cell_type": "markdown",
   "metadata": {},
   "source": [
    "#红酒数据集"
   ]
  },
  {
   "cell_type": "code",
   "execution_count": 5,
   "metadata": {},
   "outputs": [
    {
     "data": {
      "image/png": "[encoded data removed]",
      "text/plain": [
       "<Figure size 216x144 with 2 Axes>"
      ]
     },
     "metadata": {},
     "output_type": "display_data"
    },
    {
     "name": "stdout",
     "output_type": "stream",
     "text": [
      "Wall time: 11min 32s\n"
     ]
    }
   ],
   "source": [
    "%%time\n",
    "from sklearn.datasets import load_wine\n",
    "wine= load_wine()\n",
    "wine_sample = pd.DataFrame(wine.data, columns=wine.feature_names)\n",
    "wine_sample = pd.DataFrame(min_max_scaler.fit_transform(np.array(wine_sample)))\n",
    "wine_sample['label'] = wine.target\n",
    "wine_F1=RDS(wine_sample)\n",
    "plot_fscore(wine_F1,'(b)Wine')"
   ]
  },
  {
   "cell_type": "markdown",
   "metadata": {},
   "source": [
    "#种子数据集"
   ]
  },
  {
   "cell_type": "code",
   "execution_count": 6,
   "metadata": {},
   "outputs": [
    {
     "data": {
      "image/png": "[encoded data removed]",
      "text/plain": [
       "<Figure size 216x144 with 2 Axes>"
      ]
     },
     "metadata": {},
     "output_type": "display_data"
    },
    {
     "name": "stdout",
     "output_type": "stream",
     "text": [
      "Wall time: 8min 12s\n"
     ]
    }
   ],
   "source": [
    "%%time\n",
    "seeds=pd.read_csv('C:/Users/liu/python works/mydata/seeds.csv',engine='python')\n",
    "seeds_sample=seeds.drop(['label'],axis=1)\n",
    "seeds_sample=pd.DataFrame(min_max_scaler.fit_transform(np.array(seeds_sample)))\n",
    "seeds_sample['label']=seeds.label\n",
    "seeds_F1=RDS(seeds_sample)\n",
    "plot_fscore(seeds_F1,'(c)Seeds')"
   ]
  },
  {
   "cell_type": "markdown",
   "metadata": {},
   "source": [
    "#玻璃数据集"
   ]
  },
  {
   "cell_type": "code",
   "execution_count": 7,
   "metadata": {},
   "outputs": [
    {
     "data": {
      "image/png": "[encoded data removed]",
      "text/plain": [
       "<Figure size 216x144 with 2 Axes>"
      ]
     },
     "metadata": {},
     "output_type": "display_data"
    },
    {
     "name": "stdout",
     "output_type": "stream",
     "text": [
      "Wall time: 11min 36s\n"
     ]
    }
   ],
   "source": [
    "%%time\n",
    "glass=pd.read_csv('C:/Users/liu/python works/mydata/glass.csv')\n",
    "glass_sample=glass.drop(['label'],axis=1)\n",
    "glass_sample=pd.DataFrame(min_max_scaler.fit_transform(np.array(glass_sample)))\n",
    "glass_sample['label']=glass.label\n",
    "glass_F1=RDS(glass_sample)\n",
    "plot_fscore(glass_F1,'(d)Glass')"
   ]
  },
  {
   "cell_type": "markdown",
   "metadata": {},
   "source": [
    "#蛋白质定位点数据集"
   ]
  },
  {
   "cell_type": "code",
   "execution_count": 8,
   "metadata": {},
   "outputs": [
    {
     "data": {
      "image/png": "[encoded data removed]",
      "text/plain": [
       "<Figure size 216x144 with 2 Axes>"
      ]
     },
     "metadata": {},
     "output_type": "display_data"
    },
    {
     "name": "stdout",
     "output_type": "stream",
     "text": [
      "Wall time: 15min 49s\n"
     ]
    }
   ],
   "source": [
    "%%time\n",
    "ecoli=pd.read_csv('C:/Users/liu/python works/mydata/ecoli.csv')\n",
    "ecoli_F1=RDS(ecoli)\n",
    "plot_fscore(ecoli_F1,'(e)Ecoli')"
   ]
  },
  {
   "cell_type": "markdown",
   "metadata": {},
   "source": [
    "#图像分割数据集"
   ]
  },
  {
   "cell_type": "code",
   "execution_count": null,
   "metadata": {},
   "outputs": [],
   "source": [
    "%%time\n",
    "image=pd.read_csv('C:/Users/liu/python works/mydata/segmentation.csv')\n",
    "image_sample=image.drop(['label'],axis=1)\n",
    "image_sample=pd.DataFrame(min_max_scaler.fit_transform(np.array(image_sample)))\n",
    "image_sample['label']=image.label\n",
    "image_F1=RDS(image_sample)\n",
    "plot_fscore(image_F1,'(f)Image')"
   ]
  },
  {
   "cell_type": "markdown",
   "metadata": {},
   "source": [
    "#汽车数据集"
   ]
  },
  {
   "cell_type": "code",
   "execution_count": null,
   "metadata": {},
   "outputs": [],
   "source": [
    "%%time\n",
    "statlog=pd.read_csv('C:/Users/liu/python works/mydata/statlog.csv',engine='python')\n",
    "statlog.drop_duplicates(inplace=True)\n",
    "statlog_sample=statlog[['1','2','3','4','5','6','7','8','9','10','11','12','13','14','15','16','17','18']]\n",
    "statlog_sample=pd.DataFrame(min_max_scaler.fit_transform(np.array(statlog_sample)))\n",
    "statlog_sample['label']=statlog.label  \n",
    "statlog_F1=RDS(statlog_sample)\n",
    "plot_fscore(statlog_F1,'(g)Statlog')"
   ]
  },
  {
   "cell_type": "markdown",
   "metadata": {},
   "source": [
    "#新甲状腺数据集"
   ]
  },
  {
   "cell_type": "code",
   "execution_count": null,
   "metadata": {},
   "outputs": [],
   "source": [
    "%%time\n",
    "thyroid=pd.read_csv('C:/Users/liu/python works/mydata/new-thyroid.csv',engine='python')\n",
    "thyroid_sample=thyroid.drop(['label'],axis=1)\n",
    "thyroid_sample=pd.DataFrame(min_max_scaler.fit_transform(np.array(thyroid_sample)))\n",
    "thyroid_sample['label']=thyroid.label\n",
    "thyroid_F1=RDS(thyroid_sample)\n",
    "plot_fscore(thyroid_F1,'(h)Thyroid')"
   ]
  },
  {
   "cell_type": "markdown",
   "metadata": {},
   "source": [
    "#酵母菌数据集"
   ]
  },
  {
   "cell_type": "code",
   "execution_count": null,
   "metadata": {},
   "outputs": [],
   "source": [
    "%%time\n",
    "yeast=pd.read_csv('C:/Users/liu/python works/mydata/yeast.csv',engine='python')\n",
    "yeast_sample=yeast.drop(['label'],axis=1)\n",
    "yeast_sample=pd.DataFrame(min_max_scaler.fit_transform(np.array(yeast_sample)))\n",
    "yeast_sample['label']=yeast.label\n",
    "yeast_F1=RDS(yeast_sample)\n",
    "plot_fscore(yeast_F1,'(i)Yeast')"
   ]
  },
  {
   "cell_type": "code",
   "execution_count": null,
   "metadata": {},
   "outputs": [],
   "source": [
    "%%time\n",
    "vowel=pd.read_csv('C:/Users/liu/python works/mydata/vowel.csv',engine='python')\n",
    "vowel_sample=vowel.drop(['label'],axis=1)\n",
    "vowel_sample=pd.DataFrame(min_max_scaler.fit_transform(np.array(vowel_sample)))\n",
    "vowel_sample['label']=vowel.label\n",
    "vowel_F1=RDS(vowel_sample)\n",
    "plot_Fscore(vowel_F1,'(j)Vowel')"
   ]
  },
  {
   "cell_type": "code",
   "execution_count": null,
   "metadata": {},
   "outputs": [],
   "source": [
    "%%time\n",
    "letter=pd.read_csv('C:/Users/liu/python works/mydata/letter.csv',engine='python')\n",
    "letter_sample=letter.drop(['label'],axis=1)\n",
    "letter_sample=pd.DataFrame(min_max_scaler.fit_transform(np.array(letter_sample)))\n",
    "letter_sample['label']=letter.label\n",
    "letter_F1=RDS(letter_sample)\n",
    "plot_Fscore(letter_F1,'(k)Letter')"
   ]
  },
  {
   "cell_type": "code",
   "execution_count": null,
   "metadata": {},
   "outputs": [],
   "source": [
    "%%time\n",
    "pen_base=pd.read_csv('C:/Users/liu/python works/mydata/pen_base.csv',engine='python')\n",
    "pen_sample=pen_base.drop(['label'],axis=1)\n",
    "pen_sample=pd.DataFrame(min_max_scaler.fit_transform(np.array(pen_sample)))\n",
    "pen_sample['label']=pen_base.label\n",
    "pen_F1=RDS(pen_sample)\n",
    "plot_Fscore(pen_F1,'(l)Pen')"
   ]
  }
 ],
 "metadata": {
  "kernelspec": {
   "display_name": "Python 3",
   "language": "python",
   "name": "python3"
  },
  "language_info": {
   "codemirror_mode": {
    "name": "ipython",
    "version": 3
   },
   "file_extension": ".py",
   "mimetype": "text/x-python",
   "name": "python",
   "nbconvert_exporter": "python",
   "pygments_lexer": "ipython3",
   "version": "3.6.5"
  }
 },
 "nbformat": 4,
 "nbformat_minor": 2
}
