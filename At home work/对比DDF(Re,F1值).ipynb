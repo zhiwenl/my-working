{
 "cells": [
  {
   "cell_type": "code",
   "execution_count": 1,
   "metadata": {},
   "outputs": [],
   "source": [
    "class Node:\n",
    "    def __init__(self, data, depth=0, lchild=None, rchild=None):\n",
    "        self.data = data\n",
    "        self.depth = depth\n",
    "        self.lchild = lchild\n",
    "        self.rchild = rchild\n",
    "class KdTree:\n",
    "    def __init__(self):\n",
    "        self.KdTree = None\n",
    "        self.n = 0\n",
    "        self.nearest = None\n",
    "\n",
    "    def create(self, dataSet, depth=0):\n",
    "        if len(dataSet) > 0:\n",
    "            m, n = np.shape(dataSet)\n",
    "            self.n = n - 1\n",
    "            axis = depth % self.n\n",
    "            mid = int(m / 2)\n",
    "            dataSetcopy = sorted(dataSet, key=lambda x: x[axis])\n",
    "            node = Node(dataSetcopy[mid], depth)\n",
    "            if depth == 0:\n",
    "                self.KdTree = node\n",
    "            node.lchild = self.create(dataSetcopy[:mid], depth+1)\n",
    "            node.rchild = self.create(dataSetcopy[mid+1:], depth+1)\n",
    "            return node\n",
    "        return None\n",
    "\n",
    "    def preOrder(self, node):\n",
    "        if node is not None:\n",
    "            print(node.depth, node.data)\n",
    "            self.preOrder(node.lchild)\n",
    "            self.preOrder(node.rchild)\n",
    "\n",
    "    def search(self, x, count=1):\n",
    "        nearest = []\n",
    "        for i in range(count):\n",
    "            nearest.append([-1, None])\n",
    "    \n",
    "        self.nearest = np.array(nearest)\n",
    "\n",
    "        def recurve(node):\n",
    "            if node is not None:\n",
    "                axis = node.depth % self.n\n",
    "                daxis = x[axis] - node.data[axis]\n",
    "                if daxis < 0:\n",
    "                    recurve(node.lchild)\n",
    "                else:\n",
    "                    recurve(node.rchild)\n",
    "\n",
    "                dist = sqrt(sum((p1 - p2) ** 2 for p1, p2 in zip(x, node.data)))\n",
    "                for i, d in enumerate(self.nearest):\n",
    "                    if d[0] < 0 or dist < d[0]:\n",
    "                        self.nearest = np.insert(self.nearest, i, [dist, node], axis=0)\n",
    "                        self.nearest = self.nearest[:-1]\n",
    "                        break\n",
    "\n",
    "                n = list(self.nearest[:, 0]).count(-1)\n",
    "                if self.nearest[-n-1, 0] > abs(daxis):\n",
    "                    if daxis < 0:\n",
    "                        recurve(node.rchild)\n",
    "                    else:\n",
    "                        recurve(node.lchild)\n",
    "\n",
    "        recurve(self.KdTree)\n",
    "\n",
    "        knn = self.nearest[:, 1]\n",
    "        return self.nearest"
   ]
  },
  {
   "cell_type": "code",
   "execution_count": 2,
   "metadata": {},
   "outputs": [],
   "source": [
    "import numpy as np\n",
    "from math import sqrt\n",
    "import pandas as pd\n",
    "import matplotlib.pyplot as plt\n",
    "import seaborn as sns\n",
    "import mpl_toolkits.axisartist.axislines as axislines\n",
    "import matplotlib as mpl\n",
    "from sklearn import preprocessing\n",
    "min_max_scaler=preprocessing.MinMaxScaler()\n",
    "mpl.rcParams['font.sans-serif'] = [u'SimHei']\n",
    "mpl.rcParams['axes.unicode_minus'] = False\n",
    "from sklearn.model_selection import KFold\n",
    "kf=KFold(n_splits=10)\n",
    "\n",
    "def DDF(df):    \n",
    "    data2=np.array(df.drop('label',axis=1))\n",
    "    dmax=[]\n",
    "    for m in range(0,len(data2)-1):\n",
    "        for n in range(m+1,len(data2)):\n",
    "            dmax.append(sqrt(sum((data2[m] - data2[n]) ** 2 )))\n",
    "    a = np.percentile(dmax,10) #密度阈值(%10分位数)\n",
    "    k=7\n",
    "    x1 = np.array([[1,1],[1,-1]])\n",
    "    x2 = np.array([1,np.floor(k / 3)/ k])\n",
    "    (Ps_,Pd_)=np.linalg.solve(x1,x2)\n",
    "    H_ = -Ps_* np.log2(Ps_)-Pd_*np.log2(Pd_) #标签混合程度阈值\n",
    "    Fh,Re=[],[]\n",
    "    data=np.array(df)\n",
    "    for rate in [0.05,0.1,0.2,0.3,0.4]:\n",
    "        fh_temp,re_temp=[],[]\n",
    "        for train_index, test_index in kf.split(data):\n",
    "            train=data[train_index]\n",
    "            test=data[test_index]\n",
    "            train=pd.DataFrame(train)\n",
    "            train.columns=df.columns\n",
    "            Dn= []\n",
    "            noise_set=pd.DataFrame(columns=train.columns)\n",
    "            label_set=list(set(train.label))\n",
    "            for r in label_set:    \n",
    "                noise_set=pd.concat([noise_set,train[train.label==r].sample(frac=rate,replace=False)]) #选取噪声比例 \n",
    "            train_cut=train[~train.index.isin(noise_set.index)]\n",
    "            no=[]\n",
    "            for j in range(0,len(noise_set)):\n",
    "                no.append(np.random.choice(label_set))\n",
    "            noise_set['label2']=no\n",
    "            noise_set.reset_index(drop=True,inplace=True)\n",
    "            for l in range(0,len(noise_set)):  #随机替换标签\n",
    "                label_set=list(set(train.label))\n",
    "                if (noise_set.loc[l,'label']==noise_set.loc[l,'label2']):\n",
    "                    label_set.remove(noise_set.loc[l,'label'])\n",
    "                    noise_set.loc[l,'label2']=np.random.choice(label_set) #从剩余列表中随机选择\n",
    "            noise=noise_set.drop(['label'],axis=1)\n",
    "            noise.rename(columns={'label2':'label'}, inplace = True)\n",
    "            train= pd.concat([train_cut,noise],axis=0,ignore_index=True) #含噪声数据集\n",
    "            train_set=np.array(train)\n",
    "            kdt = KdTree()\n",
    "            kdt.create(train_set)  \n",
    "            for x in train_set:\n",
    "            #plt.scatter(x[0], x[1], c='red', marker='x')  # 测试点\n",
    "                near= kdt.search(x[:-1], k+1)  # 设置临近点的个数\n",
    "                density = 0\n",
    "                t,hon,hen,dist_hon,dist_hen,DoD,DRL= 0,0,0,0,0,0,0\n",
    "                for i in range(1,k+1):\n",
    "                    if x[-1] == near[i][1].data[-1]:\n",
    "                        t += 1\n",
    "                        hon += 1\n",
    "                        dist_hon += near[i][0]\n",
    "                    else:\n",
    "                        hen += 1\n",
    "                        dist_hen += near[i][0]\n",
    "                    density += near[i][0]  #密度   \n",
    "                DoD = abs(dist_hen - dist_hon) #相异性差值(要加绝对值)\n",
    "                DRL = (hen - hon) / k #标签异同差  \n",
    "                Ps = t / k\n",
    "                Pd = 1 - Ps\n",
    "                if (Ps==1)|(Ps==0):\n",
    "                    H = 0\n",
    "                else:\n",
    "                    H = -Ps* np.log2(Ps)-Pd*np.log2(Pd)\n",
    "              #  print('densit:',density)\n",
    "                if (density <= a): #高密度区域\n",
    "                   # print('高密度区')\n",
    "                    if DRL > 0:\n",
    "                        Dn.append(list(x))\n",
    "                       # print('高密度区噪声')\n",
    "                else:\n",
    "                    if (H < H_): #低密度单一标签区域\n",
    "                        if DRL > 0:\n",
    "                            Dn.append(list(x))\n",
    "                           # print('低密度单一标签噪声'\n",
    "                    else: #低密度混合标签区  \n",
    "                      #  print('DoD',DoD)\n",
    "                        DoD_ = density / k\n",
    "                       # print('DoD阈值:',DoD_)\n",
    "                        if DoD >= DoD_:\n",
    "                            hon_sa,hen_sa,DRL_sa=0,0,0\n",
    "                            near2=[]\n",
    "                            for j in range(1,k+1):\n",
    "                                if near[j][0] <= a: #该点到待测点距离小于a\n",
    "                                    near2.append(near[j])\n",
    "                            for n2 in near2:\n",
    "                                if (x[-1]==n2[1].data[-1]):\n",
    "                                    hon_sa +=1\n",
    "                                else:\n",
    "                                    hen_sa +=1\n",
    "                            DRL_sa = hen_sa - hon_sa\n",
    "                            if DRL_sa > 0:        \n",
    "                                Dn.append(list(x))\n",
    "                               # print('混合标签区噪声')\n",
    "                            elif DRL_sa ==0 and len(near2)<k:\n",
    "                                if x[-1] != near[len(near2)+1][1].data[-1]:\n",
    "                                    Dn.append(list(x))  \n",
    "\n",
    "            noise_list=noise.values.tolist()\n",
    "            TP = 0\n",
    "            for c in Dn:\n",
    "                if c in noise_list:\n",
    "                    TP += 1\n",
    "            FP = len(Dn) - TP\n",
    "            FN = len(noise_list) - TP\n",
    "            precision= TP / (TP + FP)\n",
    "            recall= TP / (TP + FN)\n",
    "            fh= 2* (precision * recall) / (precision + recall) #F1值\n",
    "            re = len(Dn) / len(train_set)#移除率\n",
    "            fh_temp.append(fh)\n",
    "            re_temp.append(re)\n",
    "        Fh.append(np.mean(fh_temp))\n",
    "        Re.append(np.mean(re_temp))\n",
    "    return Fh,Re"
   ]
  },
  {
   "cell_type": "code",
   "execution_count": 3,
   "metadata": {},
   "outputs": [],
   "source": [
    "def RDS(df):    \n",
    "    k=5\n",
    "    x1 = np.array([[1,1],[1,-1]])\n",
    "    x2 = np.array([1,np.floor(k / 3)/ k])\n",
    "    (Ps_,Pd_)=np.linalg.solve(x1,x2)\n",
    "    H_ = -Ps_* np.log2(Ps_)-Pd_*np.log2(Pd_) #标签混合程度阈值\n",
    "    data2=np.array(df.drop('label',axis=1))\n",
    "    dmax=[]\n",
    "    for m in range(0,len(data2)-1):\n",
    "        for n in range(m+1,len(data2)):\n",
    "            dmax.append(sqrt(sum((data2[m] - data2[n]) ** 2 )))\n",
    "    a = np.percentile(dmax,10) #密度阈值(%10分位数)\n",
    "    Fh,Re=[],[]\n",
    "    data=np.array(df)\n",
    "    for rate in [0.05,0.1,0.2,0.3,0.4]:\n",
    "        fh_temp,re_temp=[],[]\n",
    "        for train_index, test_index in kf.split(data):\n",
    "            train=data[train_index]\n",
    "            test=data[test_index]\n",
    "            train=pd.DataFrame(train)\n",
    "            train.columns=df.columns\n",
    "            Dn,Dn_filted= [],[]\n",
    "            noise_set=pd.DataFrame(columns=train.columns)\n",
    "            label_set=list(set(train.label))\n",
    "            for r in label_set:    \n",
    "                noise_set=pd.concat([noise_set,train[train.label==r].sample(frac=rate, replace=False)]) #选取噪声比例 \n",
    "            train_cut=train[~train.index.isin(noise_set.index)]\n",
    "            no=[]\n",
    "            for j in range(0,len(noise_set)):\n",
    "                no.append(np.random.choice(label_set))\n",
    "            noise_set['label2']=no\n",
    "            noise_set.reset_index(drop=True,inplace=True)\n",
    "            for l in range(0,len(noise_set)):  #随机替换标签\n",
    "                label_set=list(set(train.label))\n",
    "                if (noise_set.loc[l,'label']==noise_set.loc[l,'label2']):\n",
    "                    label_set.remove(noise_set.loc[l,'label'])\n",
    "                    noise_set.loc[l,'label2']=np.random.choice(label_set) #从剩余列表中随机选择\n",
    "            noise=noise_set.drop(['label'],axis=1)\n",
    "            noise.rename(columns={'label2':'label'}, inplace = True)\n",
    "            train= pd.concat([train_cut,noise],axis=0,ignore_index=True) #含噪声数据集\n",
    "            train_set=np.array(train)\n",
    "            kdt = KdTree()\n",
    "            kdt.create(train_set)  \n",
    "            for x in train_set:\n",
    "                near = kdt.search(x[:-1], k+1)  # 设置临近点的个数\n",
    "                density = 0\n",
    "                t,hon,hen,dist_hon,dist_hen,DoD,DRL= 0,0,0,0,0,0,0\n",
    "                for i in range(1,k+1):\n",
    "                    if x[-1] == near[i][1].data[-1]:\n",
    "                        t += 1\n",
    "                        hon += 1\n",
    "                        dist_hon += near[i][0]\n",
    "                    else:\n",
    "                        hen += 1\n",
    "                        dist_hen += near[i][0]\n",
    "                    density += near[i][0]  #密度   \n",
    "\n",
    "                DoD = abs(dist_hen - dist_hon) #相异性差值(要加绝对值)\n",
    "                DRL = (hen - hon)  #标签异同差   \n",
    "                Ps = t / k\n",
    "                Pd = 1 - Ps\n",
    "                if (Ps==1)|(Ps==0):\n",
    "                    H = 0\n",
    "                else:\n",
    "                    H = -Ps* np.log2(Ps)-Pd*np.log2(Pd)\n",
    "              #  print('densit:',density)\n",
    "                if (density <= a): #高密度区域\n",
    "                    if DRL > 0:\n",
    "                        Dn.append(list(x))\n",
    "                else:\n",
    "                    if (H < H_): #低密度单一标签区域\n",
    "                        if DRL > 0:\n",
    "                            Dn.append(list(x))\n",
    "                           # print('低密度单一标签噪声')\n",
    "                    else: #低密度混合标签区  \n",
    "                        DoD_ = density / k\n",
    "                        if DoD >= DoD_:\n",
    "                            train_hon,train_hen=[],[]\n",
    "                            for j in train_set:\n",
    "                                if j[-1]==x[-1]:\n",
    "                                    train_hon.append(j)\n",
    "                                else:\n",
    "                                    train_hen.append(j)\n",
    "                            kdt_hon=KdTree()\n",
    "                            kdt_hen=KdTree()\n",
    "                            kdt_hon.create(train_hon)\n",
    "                            kdt_hen.create(train_hen)\n",
    "                            near_hon=kdt_hon.search(x,k+1)\n",
    "                            near_hen=kdt_hen.search(x,k)\n",
    "                            density_hon,density_hen=0,0\n",
    "                            for hon in near_hon:\n",
    "                                density_hon += hon[0]\n",
    "                            for hen in near_hen:\n",
    "                                density_hen += hen[0]\n",
    "                            if density_hon / density_hen > 1:\n",
    "                                Dn.append(list(x))                 \n",
    "            noise_neighbor=[]                   \n",
    "            for e in Dn:  # 计算噪声分数\n",
    "                e=np.array(e)\n",
    "                near2=kdt.search(e[:-1],k+1) #k近邻\n",
    "                for i in range(1,k+1):\n",
    "                    noise_neighbor.append(list(near2[i][1].data))\n",
    "            for e in Dn:\n",
    "                e=np.array(e)\n",
    "                near3=kdt.search(e[:-1],k+1)\n",
    "                t_e=noise_neighbor.count(list(e)) #处于其它噪声近邻的次数\n",
    "                confidence_e= 1 / np.sqrt(1+t_e*t_e)#e的置信度\n",
    "                neighborhood_e=0\n",
    "                for i in range(1,k+1):\n",
    "                    t_ei=noise_neighbor.count(list(near3[i][1].data))\n",
    "                    confidence_ei=1 / np.sqrt(1+t_ei*t_ei) \n",
    "                    if near3[i][1].data[-1]==e[-1]:\n",
    "                        different_class=-1\n",
    "                    else:\n",
    "                        different_class=1\n",
    "                    if list(near3[i][1].data) in Dn: \n",
    "                        isnoise=1\n",
    "                    else:\n",
    "                        isnoise=-1\n",
    "                    near4=kdt.search(near3[i][1].data[:-1],k+1)\n",
    "                    n_ei=0\n",
    "                    for j in range(1,k+1):\n",
    "                        if list(near4[j][1].data) in Dn:\n",
    "                            n_ei += 1\n",
    "                    clean_ei= (k + isnoise*(n_ei- k)) / (2*k) #纯净度\n",
    "                    neighborhood_e += (clean_ei*confidence_ei*different_class)/k \n",
    "                NS_e=confidence_e * neighborhood_e #噪声得分\n",
    "                if NS_e > 0:\n",
    "                    Dn_filted.append(list(e))\n",
    "            noise_list=noise.values.tolist()\n",
    "            TP = 0\n",
    "            for c in Dn_filted:\n",
    "                if c in noise_list:\n",
    "                    TP += 1\n",
    "            FP = len(Dn_filted) - TP\n",
    "            FN = len(noise_list) - TP\n",
    "            precision= TP / (TP + FP)\n",
    "            recall= TP / (TP + FN)\n",
    "            fh= 2* (precision * recall) / (precision + recall) #F1值\n",
    "            re = len(Dn_filted) / len(train_set)#移除率\n",
    "            fh_temp.append(fh)\n",
    "            re_temp.append(re)\n",
    "        Fh.append(np.mean(fh_temp))\n",
    "        Re.append(np.mean(re_temp))\n",
    "    return Fh,Re"
   ]
  },
  {
   "cell_type": "code",
   "execution_count": 4,
   "metadata": {},
   "outputs": [
    {
     "name": "stdout",
     "output_type": "stream",
     "text": [
      "Using matplotlib backend: Qt5Agg\n"
     ]
    }
   ],
   "source": [
    "import mpl_toolkits.axisartist.axislines as axislines\n",
    "import matplotlib as mpl\n",
    "mpl.rcParams['font.sans-serif'] = [u'SimHei']\n",
    "mpl.rcParams['axes.unicode_minus'] = False\n",
    "%matplotlib"
   ]
  },
  {
   "cell_type": "code",
   "execution_count": 5,
   "metadata": {},
   "outputs": [],
   "source": [
    "def plot_res(res_DDF,res_RDS,title):\n",
    "    noise_rate=[5,10,20,30,40]\n",
    "    fig = plt.figure(figsize=(5,8))\n",
    "    ax1 = axislines.Subplot(fig, 2,1,1)\n",
    "    fig.add_subplot(ax1)\n",
    "    ax1.set_xticks(noise_rate)\n",
    "    ax1.axis([0,40,0,1])\n",
    "    plt.plot(noise_rate,res_DDF[0],'ro-',label='DDF')\n",
    "    plt.plot(noise_rate,res_RDS[0],'b*-.',label='DDF-SCORE')\n",
    "    plt.xlabel('noise rate/%')\n",
    "    plt.ylabel('F1')\n",
    "    plt.title(title)\n",
    "    plt.legend(frameon=False)\n",
    "    plt.show()\n",
    "    ax2 = axislines.Subplot(fig, 2,1,2)\n",
    "    fig.add_subplot(ax2)\n",
    "    ax2.set_xticks([5,10,20,30,40])\n",
    "    ax2.set_yticks([0,0.2,0.4,0.6,0.8])\n",
    "    ax2.axis([0,40,0,0.8])\n",
    "    plt.plot(noise_rate,res_DDF[1],'ro-',label='DDF')\n",
    "    plt.plot(noise_rate,res_RDS[1],'b*-.',label='DDF-SCORE')\n",
    "    plt.xlabel('noise rate/%')\n",
    "    plt.ylabel('Re')\n",
    "   # plt.title('不同噪声下的过滤值Re',fontsize=12)\n",
    "    plt.legend(frameon=False)\n",
    "    plt.show()\n",
    "    plt.tight_layout(2) #设置子图间隔\n",
    "    #plt.suptitle(title)\n",
    "    plt.show()"
   ]
  },
  {
   "cell_type": "markdown",
   "metadata": {},
   "source": [
    "#iris数据集"
   ]
  },
  {
   "cell_type": "code",
   "execution_count": 6,
   "metadata": {},
   "outputs": [
    {
     "name": "stdout",
     "output_type": "stream",
     "text": [
      "Wall time: 40.9 s\n"
     ]
    }
   ],
   "source": [
    "%%time\n",
    "from sklearn.datasets import load_iris\n",
    "iris = load_iris()\n",
    "iris_sample= pd.DataFrame(iris.data, columns=iris.feature_names)\n",
    "iris_sample=pd.DataFrame(min_max_scaler.fit_transform(np.array(iris_sample)))\n",
    "iris_sample['label'] = iris.target\n",
    "iris_DDF=DDF(iris_sample)\n",
    "iris_RDS=RDS(iris_sample)\n",
    "#plot_res(iris_DDF,iris_RDS,'(a)Iris ')\n",
    "#plt.savefig(r'./对比实验结果图F1/iris.png')"
   ]
  },
  {
   "cell_type": "code",
   "execution_count": 7,
   "metadata": {},
   "outputs": [
    {
     "data": {
      "text/plain": [
       "([0.759047619047619,\n",
       "  0.8542977788749235,\n",
       "  0.8796750592984169,\n",
       "  0.8435148944910698,\n",
       "  0.7953985764649758],\n",
       " [0.07333333333333333,\n",
       "  0.1355555555555556,\n",
       "  0.24148148148148146,\n",
       "  0.3540740740740741,\n",
       "  0.4925925925925926])"
      ]
     },
     "execution_count": 7,
     "metadata": {},
     "output_type": "execute_result"
    }
   ],
   "source": [
    "iris_DDF"
   ]
  },
  {
   "cell_type": "code",
   "execution_count": 8,
   "metadata": {},
   "outputs": [
    {
     "data": {
      "text/plain": [
       "([0.8004804998922646,\n",
       "  0.8893125902647594,\n",
       "  0.8822649041913078,\n",
       "  0.8650143130155514,\n",
       "  0.7861632180996904],\n",
       " [0.06814814814814815,\n",
       "  0.1162962962962963,\n",
       "  0.19925925925925925,\n",
       "  0.28888888888888886,\n",
       "  0.36444444444444446])"
      ]
     },
     "execution_count": 8,
     "metadata": {},
     "output_type": "execute_result"
    }
   ],
   "source": [
    "iris_RDS"
   ]
  },
  {
   "cell_type": "markdown",
   "metadata": {},
   "source": [
    "#红酒数据"
   ]
  },
  {
   "cell_type": "code",
   "execution_count": 9,
   "metadata": {},
   "outputs": [
    {
     "name": "stdout",
     "output_type": "stream",
     "text": [
      "Wall time: 2min 39s\n"
     ]
    }
   ],
   "source": [
    "%%time\n",
    "from sklearn.datasets import load_wine\n",
    "wine= load_wine()\n",
    "wine_sample = pd.DataFrame(wine.data, columns=wine.feature_names)\n",
    "wine_sample = pd.DataFrame(min_max_scaler.fit_transform(np.array(wine_sample)))\n",
    "wine_sample['label'] = wine.target\n",
    "wine_DDF=DDF(wine_sample)\n",
    "wine_RDS=RDS(wine_sample)\n",
    "#plot_res(wine_DDF,wine_RDS,'(b)Wine')\n",
    "#plt.savefig(r'./对比实验结果图F1/wine.png')"
   ]
  },
  {
   "cell_type": "code",
   "execution_count": 10,
   "metadata": {},
   "outputs": [
    {
     "data": {
      "text/plain": [
       "([0.6924339042599912,\n",
       "  0.8165027259764102,\n",
       "  0.8532017948952934,\n",
       "  0.8515402982506582,\n",
       "  0.8059411038431833],\n",
       " [0.08988742236024845,\n",
       "  0.13921583850931676,\n",
       "  0.24719720496894407,\n",
       "  0.3726824534161491,\n",
       "  0.5093206521739131])"
      ]
     },
     "execution_count": 10,
     "metadata": {},
     "output_type": "execute_result"
    }
   ],
   "source": [
    "wine_DDF"
   ]
  },
  {
   "cell_type": "code",
   "execution_count": 11,
   "metadata": {},
   "outputs": [
    {
     "data": {
      "text/plain": [
       "([0.8115946729569021,\n",
       "  0.8896372781761774,\n",
       "  0.9018629482896383,\n",
       "  0.8388912453267292,\n",
       "  0.7604999865347101],\n",
       " [0.06741847826086958,\n",
       "  0.11361024844720498,\n",
       "  0.21159161490683234,\n",
       "  0.2827833850931677,\n",
       "  0.3601708074534161])"
      ]
     },
     "execution_count": 11,
     "metadata": {},
     "output_type": "execute_result"
    }
   ],
   "source": [
    "wine_RDS"
   ]
  },
  {
   "cell_type": "markdown",
   "metadata": {},
   "source": [
    "#种子数据集"
   ]
  },
  {
   "cell_type": "code",
   "execution_count": 12,
   "metadata": {},
   "outputs": [
    {
     "name": "stdout",
     "output_type": "stream",
     "text": [
      "Wall time: 1min 28s\n"
     ]
    }
   ],
   "source": [
    "%%time\n",
    "seeds=pd.read_csv('C:/Users/liu/python works/mydata/seeds.csv',engine='python')\n",
    "seeds_sample=seeds.drop(['label'],axis=1)\n",
    "seeds_sample=pd.DataFrame(min_max_scaler.fit_transform(np.array(seeds_sample)))\n",
    "seeds_sample['label']=seeds.label\n",
    "seeds_DDF=DDF(seeds_sample)\n",
    "seeds_RDS=RDS(seeds_sample)\n",
    "#plot_res(seeds_DDF,seeds_RDS,'(c)Seeds ')\n",
    "#plt.savefig(r'./对比实验结果图F1/seeds.png')"
   ]
  },
  {
   "cell_type": "code",
   "execution_count": 13,
   "metadata": {},
   "outputs": [
    {
     "data": {
      "text/plain": [
       "([0.6151444054211836,\n",
       "  0.7537518520885114,\n",
       "  0.8286085854041403,\n",
       "  0.8116228624950093,\n",
       "  0.7813409476837372],\n",
       " [0.11111111111111112,\n",
       "  0.1582010582010582,\n",
       "  0.26560846560846557,\n",
       "  0.3883597883597883,\n",
       "  0.507936507936508])"
      ]
     },
     "execution_count": 13,
     "metadata": {},
     "output_type": "execute_result"
    }
   ],
   "source": [
    "seeds_DDF"
   ]
  },
  {
   "cell_type": "code",
   "execution_count": 14,
   "metadata": {},
   "outputs": [
    {
     "data": {
      "text/plain": [
       "([0.7443707419794376,\n",
       "  0.8252231195228058,\n",
       "  0.8368204746281535,\n",
       "  0.8216156265794152,\n",
       "  0.7564068221724555],\n",
       " [0.0783068783068783,\n",
       "  0.12804232804232804,\n",
       "  0.20582010582010582,\n",
       "  0.28888888888888886,\n",
       "  0.34285714285714286])"
      ]
     },
     "execution_count": 14,
     "metadata": {},
     "output_type": "execute_result"
    }
   ],
   "source": [
    "seeds_RDS"
   ]
  },
  {
   "cell_type": "markdown",
   "metadata": {},
   "source": [
    "#glass"
   ]
  },
  {
   "cell_type": "code",
   "execution_count": 15,
   "metadata": {},
   "outputs": [
    {
     "name": "stdout",
     "output_type": "stream",
     "text": [
      "Wall time: 1min 59s\n"
     ]
    }
   ],
   "source": [
    "%%time\n",
    "glass=pd.read_csv('C:/Users/liu/python works/mydata/glass.csv')\n",
    "glass_sample=glass.drop(['label'],axis=1)\n",
    "glass_sample=pd.DataFrame(min_max_scaler.fit_transform(np.array(glass_sample)))\n",
    "glass_sample['label']=glass.label\n",
    "glass_DDF=DDF(glass_sample)\n",
    "glass_RDS=RDS(glass_sample)\n",
    "#plot_res(glass_DDF,glass_RDS,'(d)Glass ')\n",
    "#plt.savefig(r'./对比实验结果图F1/glass.png')"
   ]
  },
  {
   "cell_type": "code",
   "execution_count": 16,
   "metadata": {},
   "outputs": [
    {
     "data": {
      "text/plain": [
       "([0.33631837544787957,\n",
       "  0.47645148553846983,\n",
       "  0.6130738431317735,\n",
       "  0.6558688561132412,\n",
       "  0.6652360683874182],\n",
       " [0.22093445134241718,\n",
       "  0.27361928565669597,\n",
       "  0.3618963154075627,\n",
       "  0.46160606304926227,\n",
       "  0.5683987744900427])"
      ]
     },
     "execution_count": 16,
     "metadata": {},
     "output_type": "execute_result"
    }
   ],
   "source": [
    "glass_DDF"
   ]
  },
  {
   "cell_type": "code",
   "execution_count": 17,
   "metadata": {},
   "outputs": [
    {
     "data": {
      "text/plain": [
       "([0.41355279538015266,\n",
       "  0.5053479602908768,\n",
       "  0.6603521512515491,\n",
       "  0.6584993845133681,\n",
       "  0.6811429907121548],\n",
       " [0.1504797226477465,\n",
       "  0.1828388293154882,\n",
       "  0.2615738127872289,\n",
       "  0.31688704345722807,\n",
       "  0.409566233975651])"
      ]
     },
     "execution_count": 17,
     "metadata": {},
     "output_type": "execute_result"
    }
   ],
   "source": [
    "glass_RDS"
   ]
  },
  {
   "cell_type": "markdown",
   "metadata": {},
   "source": [
    "#蛋白质数据集"
   ]
  },
  {
   "cell_type": "code",
   "execution_count": 18,
   "metadata": {},
   "outputs": [
    {
     "name": "stdout",
     "output_type": "stream",
     "text": [
      "Wall time: 2min 56s\n"
     ]
    }
   ],
   "source": [
    "%%time\n",
    "ecoli=pd.read_csv('C:/Users/liu/python works/mydata/ecoli.csv')\n",
    "ecoli_sample=ecoli.drop(['label'],axis=1)\n",
    "ecoli_sample=pd.DataFrame(min_max_scaler.fit_transform(np.array(ecoli_sample)))\n",
    "ecoli_sample['label']=ecoli.label\n",
    "ecoli_DDF=DDF(ecoli_sample)\n",
    "ecoli_RDS=RDS(ecoli_sample)\n",
    "#plot_res(ecoli_DDF,ecoli_RDS,'(e)Ecoli')\n",
    "#plt.savefig(r'./对比实验结果图F1/ecoli.png')"
   ]
  },
  {
   "cell_type": "code",
   "execution_count": 19,
   "metadata": {},
   "outputs": [
    {
     "data": {
      "text/plain": [
       "([0.6888677177841265,\n",
       "  0.7931807719465321,\n",
       "  0.8527257874344711,\n",
       "  0.8130428792661524,\n",
       "  0.7880257714516581],\n",
       " [0.09436600869856139,\n",
       "  0.14869187019069924,\n",
       "  0.25000501840080297,\n",
       "  0.3823486115757778,\n",
       "  0.5061241217798594])"
      ]
     },
     "execution_count": 19,
     "metadata": {},
     "output_type": "execute_result"
    }
   ],
   "source": [
    "ecoli_DDF"
   ]
  },
  {
   "cell_type": "code",
   "execution_count": 20,
   "metadata": {},
   "outputs": [
    {
     "data": {
      "text/plain": [
       "([0.7642560393051953,\n",
       "  0.827247016413402,\n",
       "  0.8750979842489743,\n",
       "  0.847239437219554,\n",
       "  0.7471670483708708],\n",
       " [0.08006691201070593,\n",
       "  0.12133154901304785,\n",
       "  0.2120090331214453,\n",
       "  0.2908581465373034,\n",
       "  0.3590849782535965])"
      ]
     },
     "execution_count": 20,
     "metadata": {},
     "output_type": "execute_result"
    }
   ],
   "source": [
    "ecoli_RDS"
   ]
  },
  {
   "cell_type": "markdown",
   "metadata": {},
   "source": [
    "#图像分割"
   ]
  },
  {
   "cell_type": "code",
   "execution_count": 21,
   "metadata": {},
   "outputs": [
    {
     "name": "stdout",
     "output_type": "stream",
     "text": [
      "Wall time: 4h 13min 4s\n"
     ]
    }
   ],
   "source": [
    "%%time\n",
    "image=pd.read_csv('C:/Users/liu/python works/mydata/segmentation.csv')\n",
    "image_sample=image.drop(['label'],axis=1)\n",
    "image_sample=pd.DataFrame(min_max_scaler.fit_transform(np.array(image_sample)))\n",
    "image_sample['label']=image.label\n",
    "image_DDF=DDF(image_sample)\n",
    "image_RDS=RDS(image_sample)\n",
    "#plot_res(image_DDF,image_RDS,'(f)Image ')\n",
    "#plt.savefig(r'./对比实验结果图F1/image.png')"
   ]
  },
  {
   "cell_type": "code",
   "execution_count": 22,
   "metadata": {},
   "outputs": [
    {
     "data": {
      "text/plain": [
       "([0.6536890725636351,\n",
       "  0.7859379146038192,\n",
       "  0.8533788537807423,\n",
       "  0.84330452386244,\n",
       "  0.8296561604731124],\n",
       " [0.09980759980759982,\n",
       "  0.15165945165945166,\n",
       "  0.2646945646945647,\n",
       "  0.40471380471380475,\n",
       "  0.5565175565175565])"
      ]
     },
     "execution_count": 22,
     "metadata": {},
     "output_type": "execute_result"
    }
   ],
   "source": [
    "image_DDF"
   ]
  },
  {
   "cell_type": "code",
   "execution_count": 23,
   "metadata": {},
   "outputs": [
    {
     "data": {
      "text/plain": [
       "([0.7546804455056285,\n",
       "  0.8564958047345718,\n",
       "  0.8955119170292596,\n",
       "  0.8865466951482514,\n",
       "  0.866489136474003],\n",
       " [0.08018278018278019,\n",
       "  0.1297739297739298,\n",
       "  0.24011544011544012,\n",
       "  0.3618566618566618,\n",
       "  0.49196729196729205])"
      ]
     },
     "execution_count": 23,
     "metadata": {},
     "output_type": "execute_result"
    }
   ],
   "source": [
    "image_RDS"
   ]
  },
  {
   "cell_type": "markdown",
   "metadata": {},
   "source": [
    "#Contracertion"
   ]
  },
  {
   "cell_type": "code",
   "execution_count": 24,
   "metadata": {},
   "outputs": [
    {
     "data": {
      "text/plain": [
       "\"\\n%%time\\ncmc=pd.read_csv('C:/Users/liu/python works/mydata/Contraception.csv',engine='python')\\ncmc_sample=cmc.drop(['label'],axis=1)\\ncmc_sample=pd.DataFrame(min_max_scaler.fit_transform(np.array(cmc_sample)))\\ncmc_sample['label']=cmc.label\\n#cmc_DDF=DDF(cmc_sample)\\ncmc_RDS=RDS(cmc_sample)\\n#plot_res(cmc_DDF,cmc_RDS,'(f)Contraception ')\\n#plt.savefig(r'./对比实验结果图F1/cmc.png')\\n\""
      ]
     },
     "execution_count": 24,
     "metadata": {},
     "output_type": "execute_result"
    }
   ],
   "source": [
    "\"\"\"\n",
    "%%time\n",
    "cmc=pd.read_csv('C:/Users/liu/python works/mydata/Contraception.csv',engine='python')\n",
    "cmc_sample=cmc.drop(['label'],axis=1)\n",
    "cmc_sample=pd.DataFrame(min_max_scaler.fit_transform(np.array(cmc_sample)))\n",
    "cmc_sample['label']=cmc.label\n",
    "#cmc_DDF=DDF(cmc_sample)\n",
    "cmc_RDS=RDS(cmc_sample)\n",
    "#plot_res(cmc_DDF,cmc_RDS,'(f)Contraception ')\n",
    "#plt.savefig(r'./对比实验结果图F1/cmc.png')\n",
    "\"\"\""
   ]
  },
  {
   "cell_type": "markdown",
   "metadata": {},
   "source": [
    "#汽车数据集"
   ]
  },
  {
   "cell_type": "code",
   "execution_count": 25,
   "metadata": {},
   "outputs": [
    {
     "name": "stdout",
     "output_type": "stream",
     "text": [
      "Wall time: 1h 11min\n"
     ]
    }
   ],
   "source": [
    "%%time\n",
    "statlog=pd.read_csv('C:/Users/liu/python works/mydata/statlog.csv',engine='python')\n",
    "statlog_sample=statlog.drop(['label'],axis=1)\n",
    "statlog_sample=pd.DataFrame(min_max_scaler.fit_transform(np.array(statlog_sample)))\n",
    "statlog_sample['label']=statlog.label \n",
    "statlog_DDF=DDF(statlog_sample)\n",
    "statlog_RDS=RDS(statlog_sample)"
   ]
  },
  {
   "cell_type": "code",
   "execution_count": 26,
   "metadata": {},
   "outputs": [],
   "source": [
    "#plot_res(statlog_DDF,sRDS,'(g)Statlog')\n",
    "#plt.savefig(r'./对比实验结果图F1/statlog.png')"
   ]
  },
  {
   "cell_type": "code",
   "execution_count": 27,
   "metadata": {},
   "outputs": [
    {
     "data": {
      "text/plain": [
       "([0.34520933574238183,\n",
       "  0.48077978900103346,\n",
       "  0.6122677598236911,\n",
       "  0.6729677309310597,\n",
       "  0.6855684798112924],\n",
       " [0.19884390272503713,\n",
       "  0.24323362339234533,\n",
       "  0.32729365629559115,\n",
       "  0.39860626817180045,\n",
       "  0.4687391572768253])"
      ]
     },
     "execution_count": 27,
     "metadata": {},
     "output_type": "execute_result"
    }
   ],
   "source": [
    "statlog_RDS"
   ]
  },
  {
   "cell_type": "markdown",
   "metadata": {},
   "source": [
    "#新甲状腺数据"
   ]
  },
  {
   "cell_type": "code",
   "execution_count": 28,
   "metadata": {},
   "outputs": [
    {
     "name": "stdout",
     "output_type": "stream",
     "text": [
      "Wall time: 1min 50s\n"
     ]
    }
   ],
   "source": [
    "%%time\n",
    "newthyroid=pd.read_csv('C:/Users/liu/python works/mydata/new-thyroid.csv',engine='python')\n",
    "newthyroid_sample=newthyroid.drop(['label'],axis=1)\n",
    "newthyroid_sample=pd.DataFrame(min_max_scaler.fit_transform(np.array(newthyroid_sample)))\n",
    "newthyroid_sample['label']=newthyroid.label\n",
    "newthyroid_DDF=DDF(newthyroid_sample)\n",
    "newthyroid_RDS=RDS(newthyroid_sample)\n",
    "#plot_res(newthyroid_DDF,newthyroid_RDS,'(h)Newthyroid')\n",
    "#plt.savefig(r'./对比实验结果图F1/newthyroid.png')"
   ]
  },
  {
   "cell_type": "code",
   "execution_count": 29,
   "metadata": {},
   "outputs": [
    {
     "data": {
      "text/plain": [
       "([0.6269669191134708,\n",
       "  0.7511821138711895,\n",
       "  0.82905878462489,\n",
       "  0.8241094739115674,\n",
       "  0.7747841403027136],\n",
       " [0.10180011751509002,\n",
       "  0.15710699214785534,\n",
       "  0.2713102932535655,\n",
       "  0.37157470220607874,\n",
       "  0.5023262646226163])"
      ]
     },
     "execution_count": 29,
     "metadata": {},
     "output_type": "execute_result"
    }
   ],
   "source": [
    "newthyroid_DDF"
   ]
  },
  {
   "cell_type": "code",
   "execution_count": 30,
   "metadata": {},
   "outputs": [
    {
     "data": {
      "text/plain": [
       "([0.7337981298799713,\n",
       "  0.843146686457804,\n",
       "  0.8623824112199315,\n",
       "  0.8153584596669757,\n",
       "  0.7349085879776489],\n",
       " [0.08319267133165964,\n",
       "  0.12143314993857166,\n",
       "  0.21447305165322367,\n",
       "  0.2821831098766091,\n",
       "  0.3529699268201485])"
      ]
     },
     "execution_count": 30,
     "metadata": {},
     "output_type": "execute_result"
    }
   ],
   "source": [
    "newthyroid_RDS"
   ]
  },
  {
   "cell_type": "markdown",
   "metadata": {},
   "source": [
    "#酵母菌数据"
   ]
  },
  {
   "cell_type": "code",
   "execution_count": 31,
   "metadata": {},
   "outputs": [
    {
     "name": "stdout",
     "output_type": "stream",
     "text": [
      "Wall time: 1h 12min 21s\n"
     ]
    }
   ],
   "source": [
    "%%time\n",
    "yeast=pd.read_csv('C:/Users/liu/python works/mydata/yeast.csv',engine='python')\n",
    "yeast_sample=yeast.drop(['label'],axis=1)\n",
    "yeast_sample=pd.DataFrame(min_max_scaler.fit_transform(np.array(yeast_sample)))\n",
    "yeast_sample['label']=yeast.label\n",
    "yeast_DDF=DDF(yeast_sample)\n",
    "yeast_RDS=RDS(yeast_sample)\n",
    "#plot_res(yeast_DDF,yeast_RDS,'(i)Yeast')\n",
    "#plt.savefig(r'./对比实验结果图F1/yeast.png')"
   ]
  },
  {
   "cell_type": "code",
   "execution_count": 32,
   "metadata": {},
   "outputs": [
    {
     "data": {
      "text/plain": [
       "([0.17214671665466938,\n",
       "  0.2818151574061698,\n",
       "  0.42731925923082315,\n",
       "  0.521152399063553,\n",
       "  0.5881566554630564],\n",
       " [0.41138042249398854,\n",
       "  0.44101669430878443,\n",
       "  0.5114447932388717,\n",
       "  0.5599563273668444,\n",
       "  0.623528607200724])"
      ]
     },
     "execution_count": 32,
     "metadata": {},
     "output_type": "execute_result"
    }
   ],
   "source": [
    "yeast_DDF"
   ]
  },
  {
   "cell_type": "code",
   "execution_count": 33,
   "metadata": {},
   "outputs": [
    {
     "data": {
      "text/plain": [
       "([0.2051067511385125,\n",
       "  0.33516905229025185,\n",
       "  0.45191547364725704,\n",
       "  0.5066642461873022,\n",
       "  0.5320174368291268],\n",
       " [0.2679960708020806,\n",
       "  0.29313241626542563,\n",
       "  0.3237430488203798,\n",
       "  0.36864245637997295,\n",
       "  0.4090427027678464])"
      ]
     },
     "execution_count": 33,
     "metadata": {},
     "output_type": "execute_result"
    }
   ],
   "source": [
    "yeast_RDS"
   ]
  },
  {
   "cell_type": "markdown",
   "metadata": {},
   "source": [
    "#vowel"
   ]
  },
  {
   "cell_type": "code",
   "execution_count": 34,
   "metadata": {},
   "outputs": [
    {
     "name": "stdout",
     "output_type": "stream",
     "text": [
      "Wall time: 51min 24s\n"
     ]
    }
   ],
   "source": [
    "%%time\n",
    "vowel=pd.read_csv('C:/Users/liu/python works/mydata/vowel.csv',engine='python')\n",
    "vowel_sample=vowel.drop(['label'],axis=1)\n",
    "vowel_sample=pd.DataFrame(min_max_scaler.fit_transform(np.array(vowel_sample)))\n",
    "vowel_sample['label']=vowel.label\n",
    "vowel_DDF=DDF(vowel_sample)\n",
    "vowel_RDS=RDS(vowel_sample)\n",
    "#plot_res(vowel_DDF,vowel_RDS,'(i)vowel')\n",
    "#plt.savefig(r'./对比实验结果图F1/vowel.png')"
   ]
  },
  {
   "cell_type": "markdown",
   "metadata": {},
   "source": [
    "#letter数据集"
   ]
  },
  {
   "cell_type": "code",
   "execution_count": 35,
   "metadata": {},
   "outputs": [
    {
     "name": "stdout",
     "output_type": "stream",
     "text": [
      "Wall time: 4h 9min 25s\n"
     ]
    }
   ],
   "source": [
    "%%time\n",
    "letter=pd.read_csv('C:/Users/liu/python works/mydata/letter.csv',engine='python')\n",
    "letter_sample=letter.drop(['label'],axis=1)\n",
    "letter_sample=pd.DataFrame(min_max_scaler.fit_transform(np.array(letter_sample)))\n",
    "letter_sample['label']=letter.label\n",
    "letter_DDF=DDF(letter_sample)\n",
    "letter_RDS=RDS(letter_sample)\n",
    "#plot_res(letter_DDF,letter_RDS,'(j)Letter')\n",
    "#plt.savefig(r'./对比实验结果图F1/letter.png')"
   ]
  },
  {
   "cell_type": "markdown",
   "metadata": {},
   "source": [
    "#pen_base"
   ]
  },
  {
   "cell_type": "code",
   "execution_count": 36,
   "metadata": {},
   "outputs": [
    {
     "name": "stdout",
     "output_type": "stream",
     "text": [
      "Wall time: 8h 24min 8s\n"
     ]
    }
   ],
   "source": [
    "%%time\n",
    "pen_base=pd.read_csv('C:/Users/liu/python works/mydata/pen_base.csv',engine='python')\n",
    "pen_sample=pen_base.drop(['label'],axis=1)\n",
    "pen_sample=pd.DataFrame(min_max_scaler.fit_transform(np.array(pen_sample)))\n",
    "pen_sample['label']=pen_base.label\n",
    "pen_DDF=DDF(pen_sample)\n",
    "pen_RDS=RDS(pen_sample)\n",
    "#plot_res(pen_DDF,pen_RDS,'(j)Pen')\n",
    "#plt.savefig(r'./对比实验结果图F1/pen.png')"
   ]
  },
  {
   "cell_type": "code",
   "execution_count": 37,
   "metadata": {},
   "outputs": [],
   "source": [
    "Fh_DDF=np.array(iris_DDF[0])+np.array(wine_DDF[0])+np.array(seeds_DDF[0])+np.array(glass_DDF[0])+np.array(ecoli_DDF[0])+np.array(image_DDF[0])+np.array(statlog_DDF[0])+np.array(yeast_DDF[0])+np.array(letter_DDF[0])+np.array(newthyroid_DDF[0])+np.array(pen_DDF[0])+np.array(vowel_DDF[0])\n",
    "Re_DDF=np.array(iris_DDF[1])+np.array(wine_DDF[1])+np.array(seeds_DDF[1])+np.array(glass_DDF[1])+np.array(ecoli_DDF[1])+np.array(image_DDF[1])+np.array(statlog_DDF[1])+np.array(yeast_DDF[1])+np.array(letter_DDF[1])+np.array(newthyroid_DDF[1])+np.array(pen_DDF[1])+np.array(vowel_DDF[1])"
   ]
  },
  {
   "cell_type": "code",
   "execution_count": 38,
   "metadata": {},
   "outputs": [],
   "source": [
    "Fh_RDS=np.array(iris_RDS[0])+np.array(wine_RDS[0])+np.array(seeds_RDS[0])+np.array(glass_RDS[0])+np.array(ecoli_RDS[0])+np.array(image_RDS[0])+np.array(statlog_RDS[0])+np.array(yeast_RDS[0])+np.array(letter_RDS[0])+np.array(newthyroid_RDS[0])+np.array(pen_RDS[0])+np.array(vowel_RDS[0])\n",
    "Re_RDS=np.array(iris_RDS[1])+np.array(wine_RDS[1])+np.array(seeds_RDS[1])+np.array(glass_RDS[1])+np.array(ecoli_RDS[1])+np.array(image_RDS[1])+np.array(statlog_RDS[1])+np.array(yeast_RDS[1])+np.array(letter_RDS[1])+np.array(newthyroid_RDS[1])+np.array(pen_RDS[1])+np.array(vowel_RDS[1])"
   ]
  },
  {
   "cell_type": "code",
   "execution_count": 39,
   "metadata": {},
   "outputs": [],
   "source": [
    "#Re_DDF=np.array([0.9,1.4,2.4,3.1,3.6])"
   ]
  },
  {
   "cell_type": "code",
   "execution_count": 40,
   "metadata": {},
   "outputs": [],
   "source": [
    "#Re_RDS"
   ]
  },
  {
   "cell_type": "code",
   "execution_count": 41,
   "metadata": {},
   "outputs": [
    {
     "name": "stdout",
     "output_type": "stream",
     "text": [
      "Using matplotlib backend: Qt5Agg\n"
     ]
    }
   ],
   "source": [
    "import mpl_toolkits.axisartist.axislines as axislines\n",
    "import matplotlib as mpl\n",
    "mpl.rcParams['font.sans-serif'] = [u'SimHei']\n",
    "mpl.rcParams['axes.unicode_minus'] = False\n",
    "%matplotlib\n",
    "noise_rate=[5,10,20,30,40]\n",
    "fig = plt.figure(figsize=(6,8))\n",
    "#ax1 = axislines.Subplot(fig, 2,1,1)\n",
    "#fig.add_subplot(ax1)\n",
    "#ax1.set_xticks(noise_rate)\n",
    "#ax1.axis([0,40,0,1])\n",
    "plt.subplot(2,1,1)\n",
    "plt.plot(noise_rate,Fh_DDF/12,marker='o',color='green',markersize=4,label='DDF')\n",
    "plt.plot(noise_rate,Fh_RDS/12,marker='*',color='red',markersize=5,label='DDF-NOS')\n",
    "plt.xticks(noise_rate,['5','10','20','30','40'])\n",
    "plt.yticks([0,0.2,0.4,0.6,0.8,1.0],['0','0.2','0.4','0.6','0.8','1.0'])\n",
    "plt.xlabel('noise rate/% \\n(a)',fontsize=12)\n",
    "plt.ylabel('F1',fontsize=12)\n",
    "plt.legend(frameon=False)\n",
    "plt.show()\n",
    "#ax2 = axislines.Subplot(fig, 2,1,2)\n",
    "plt.subplot(2,1,2)\n",
    "plt.plot(noise_rate,Re_DDF/12,marker='o',color='green',markersize=4,label='DDF')\n",
    "plt.plot(noise_rate,Re_RDS/12,marker='*',color='red',markersize=5,label='DDF-NOS')\n",
    "plt.xticks(noise_rate,['5','10','20','30','40'])\n",
    "plt.yticks([0,0.2,0.4,0.6,0.8,1.0],['0','0.2','0.4','0.6','0.8','1.0'])\n",
    "plt.xlabel('noise rate/%\\n(b)',fontsize=12)\n",
    "plt.ylabel('Re',fontsize=12)\n",
    "# plt.title('不同噪声下的过滤值Re',fontsize=12)\n",
    "plt.legend(frameon=False)\n",
    "plt.show()\n",
    "plt.tight_layout(2) #设置子图间隔\n",
    "#plt.suptitle(title)\n",
    "plt.show()\n",
    "plt.savefig(r'./对比实验结果图F1/真实.png')"
   ]
  },
  {
   "cell_type": "code",
   "execution_count": null,
   "metadata": {},
   "outputs": [],
   "source": []
  },
  {
   "cell_type": "code",
   "execution_count": null,
   "metadata": {},
   "outputs": [],
   "source": []
  }
 ],
 "metadata": {
  "kernelspec": {
   "display_name": "Python 3",
   "language": "python",
   "name": "python3"
  },
  "language_info": {
   "codemirror_mode": {
    "name": "ipython",
    "version": 3
   },
   "file_extension": ".py",
   "mimetype": "text/x-python",
   "name": "python",
   "nbconvert_exporter": "python",
   "pygments_lexer": "ipython3",
   "version": "3.6.5"
  }
 },
 "nbformat": 4,
 "nbformat_minor": 2
}
