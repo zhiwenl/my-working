{
 "cells": [
  {
   "cell_type": "code",
   "execution_count": 1,
   "metadata": {},
   "outputs": [],
   "source": [
    "import pandas as pd\n",
    "data=pd.read_csv('./营业数据/抄表记录.csv',skiprows=9000000,engine='python')"
   ]
  },
  {
   "cell_type": "code",
   "execution_count": 7,
   "metadata": {},
   "outputs": [],
   "source": [
    "data.columns=['用户ID', '水表口径', '水表用途', '是否单位用户', '供水人口', '水表类型', '抄表类型', '供水片区', '抄表月份', '抄表日期', '抄表员', '抄表本', '抄表路线', '用水性质', '用水性质细分', '水量']"
   ]
  },
  {
   "cell_type": "code",
   "execution_count": 15,
   "metadata": {},
   "outputs": [],
   "source": [
    "df=data[['用户ID','水表口径','抄表月份','用水性质','水量']]"
   ]
  },
  {
   "cell_type": "code",
   "execution_count": 18,
   "metadata": {},
   "outputs": [],
   "source": [
    "df.to_csv('./mydata/水表数据.csv',index=False)"
   ]
  },
  {
   "cell_type": "code",
   "execution_count": 19,
   "metadata": {},
   "outputs": [],
   "source": [
    "df2=pd.read_csv('./mydata/水表数据.csv',engine='python',encoding='utf-8')"
   ]
  },
  {
   "cell_type": "code",
   "execution_count": 27,
   "metadata": {},
   "outputs": [],
   "source": [
    "df3=df2[(df2.抄表月份>201512)&(df2.抄表月份<201801)]"
   ]
  },
  {
   "cell_type": "code",
   "execution_count": 32,
   "metadata": {},
   "outputs": [
    {
     "data": {
      "text/plain": [
       "3910263722    25\n",
       "3913239822    25\n",
       "3217998122    25\n",
       "3910263522    25\n",
       "3211538922    25\n",
       "              ..\n",
       "3906163022     1\n",
       "3911916222     1\n",
       "3906169822     1\n",
       "3906096122     1\n",
       "3235807522     1\n",
       "Name: 用户ID, Length: 227203, dtype: int64"
      ]
     },
     "execution_count": 32,
     "metadata": {},
     "output_type": "execute_result"
    }
   ],
   "source": [
    "df3.用户ID.value_counts()"
   ]
  },
  {
   "cell_type": "code",
   "execution_count": 43,
   "metadata": {},
   "outputs": [],
   "source": [
    "import numpy as np\n",
    "df4=df3.replace(0,np.nan)"
   ]
  },
  {
   "cell_type": "code",
   "execution_count": 45,
   "metadata": {},
   "outputs": [],
   "source": [
    "df4.dropna(inplace=True)"
   ]
  },
  {
   "cell_type": "code",
   "execution_count": 46,
   "metadata": {},
   "outputs": [
    {
     "data": {
      "text/plain": [
       "3910263422    25\n",
       "3846066122    25\n",
       "3873027422    25\n",
       "3910429122    25\n",
       "3910651022    25\n",
       "              ..\n",
       "3859452122     1\n",
       "3905370422     1\n",
       "3264135822     1\n",
       "3901673822     1\n",
       "3907431722     1\n",
       "Name: 用户ID, Length: 210941, dtype: int64"
      ]
     },
     "execution_count": 46,
     "metadata": {},
     "output_type": "execute_result"
    }
   ],
   "source": [
    "df4.用户ID.value_counts()"
   ]
  },
  {
   "cell_type": "code",
   "execution_count": 59,
   "metadata": {},
   "outputs": [],
   "source": [
    "df5=df4.drop_duplicates(['用户ID','抄表月份'],keep='last')"
   ]
  },
  {
   "cell_type": "code",
   "execution_count": 62,
   "metadata": {},
   "outputs": [
    {
     "data": {
      "text/plain": [
       "3826574322    24\n",
       "3203212422    24\n",
       "3841178122    24\n",
       "3206228422    24\n",
       "3825887122    24\n",
       "              ..\n",
       "3907398622     1\n",
       "3905526122     1\n",
       "3884387322     1\n",
       "3908104122     1\n",
       "3907431722     1\n",
       "Name: 用户ID, Length: 210941, dtype: int64"
      ]
     },
     "execution_count": 62,
     "metadata": {},
     "output_type": "execute_result"
    }
   ],
   "source": [
    "df5.用户ID.value_counts()"
   ]
  },
  {
   "cell_type": "code",
   "execution_count": 65,
   "metadata": {},
   "outputs": [],
   "source": [
    "a=pd.DataFrame(df5.用户ID.value_counts()==24)"
   ]
  },
  {
   "cell_type": "code",
   "execution_count": 70,
   "metadata": {},
   "outputs": [],
   "source": [
    "b=a[a.用户ID==True]\n"
   ]
  },
  {
   "cell_type": "code",
   "execution_count": 82,
   "metadata": {},
   "outputs": [],
   "source": [
    "df6=df5[df5.用户ID.isin(list(b.index))]"
   ]
  },
  {
   "cell_type": "code",
   "execution_count": 76,
   "metadata": {},
   "outputs": [
    {
     "data": {
      "text/plain": [
       "590121     3217999122\n",
       "590122     3918243422\n",
       "590123     3864222322\n",
       "590132     3217988622\n",
       "590133     3849133622\n",
       "              ...    \n",
       "3602564    3219322222\n",
       "3602565    3823189922\n",
       "3602566    3215216922\n",
       "3602567    3213726722\n",
       "3602568    3206708422\n",
       "Name: 用户ID, Length: 2013547, dtype: int64"
      ]
     },
     "execution_count": 76,
     "metadata": {},
     "output_type": "execute_result"
    }
   ],
   "source": [
    "df5.用户ID"
   ]
  },
  {
   "cell_type": "code",
   "execution_count": 86,
   "metadata": {},
   "outputs": [],
   "source": [
    "df6.to_csv('./mydata/16-17.csv',index=False)"
   ]
  },
  {
   "cell_type": "code",
   "execution_count": 2,
   "metadata": {},
   "outputs": [],
   "source": [
    "import pandas as pd\n",
    "import numpy as np\n",
    "data=pd.read_csv('./mydata/16-17.csv',engine='python',encoding='utf-8')"
   ]
  },
  {
   "cell_type": "code",
   "execution_count": 22,
   "metadata": {},
   "outputs": [],
   "source": [
    "data2=data.sort_values(['用户ID','抄表月份'])"
   ]
  },
  {
   "cell_type": "code",
   "execution_count": 9,
   "metadata": {},
   "outputs": [],
   "source": [
    "#df=data.set_index(['用户ID',data.groupby(['用户ID']).cumcount()+1]).unstack().sort_index(level=1,axis=1)"
   ]
  },
  {
   "cell_type": "code",
   "execution_count": 23,
   "metadata": {},
   "outputs": [
    {
     "data": {
      "text/html": [
       "<div>\n",
       "<style scoped>\n",
       "    .dataframe tbody tr th:only-of-type {\n",
       "        vertical-align: middle;\n",
       "    }\n",
       "\n",
       "    .dataframe tbody tr th {\n",
       "        vertical-align: top;\n",
       "    }\n",
       "\n",
       "    .dataframe thead th {\n",
       "        text-align: right;\n",
       "    }\n",
       "</style>\n",
       "<table border=\"1\" class=\"dataframe\">\n",
       "  <thead>\n",
       "    <tr style=\"text-align: right;\">\n",
       "      <th></th>\n",
       "      <th>用户ID</th>\n",
       "      <th>水表口径</th>\n",
       "      <th>抄表月份</th>\n",
       "      <th>用水性质</th>\n",
       "      <th>水量</th>\n",
       "    </tr>\n",
       "  </thead>\n",
       "  <tbody>\n",
       "    <tr>\n",
       "      <td>1282</td>\n",
       "      <td>3201100322</td>\n",
       "      <td>100</td>\n",
       "      <td>201601</td>\n",
       "      <td>工矿企业</td>\n",
       "      <td>2247.0</td>\n",
       "    </tr>\n",
       "    <tr>\n",
       "      <td>2682</td>\n",
       "      <td>3201100322</td>\n",
       "      <td>100</td>\n",
       "      <td>201602</td>\n",
       "      <td>工矿企业</td>\n",
       "      <td>4060.0</td>\n",
       "    </tr>\n",
       "    <tr>\n",
       "      <td>3756</td>\n",
       "      <td>3201100322</td>\n",
       "      <td>100</td>\n",
       "      <td>201603</td>\n",
       "      <td>工矿企业</td>\n",
       "      <td>2652.0</td>\n",
       "    </tr>\n",
       "    <tr>\n",
       "      <td>6228</td>\n",
       "      <td>3201100322</td>\n",
       "      <td>100</td>\n",
       "      <td>201604</td>\n",
       "      <td>工矿企业</td>\n",
       "      <td>3112.0</td>\n",
       "    </tr>\n",
       "    <tr>\n",
       "      <td>7621</td>\n",
       "      <td>3201100322</td>\n",
       "      <td>100</td>\n",
       "      <td>201605</td>\n",
       "      <td>工矿企业</td>\n",
       "      <td>3531.0</td>\n",
       "    </tr>\n",
       "    <tr>\n",
       "      <td>...</td>\n",
       "      <td>...</td>\n",
       "      <td>...</td>\n",
       "      <td>...</td>\n",
       "      <td>...</td>\n",
       "      <td>...</td>\n",
       "    </tr>\n",
       "    <tr>\n",
       "      <td>28507</td>\n",
       "      <td>3926287422</td>\n",
       "      <td>50</td>\n",
       "      <td>201708</td>\n",
       "      <td>居民合表</td>\n",
       "      <td>838.0</td>\n",
       "    </tr>\n",
       "    <tr>\n",
       "      <td>29885</td>\n",
       "      <td>3926287422</td>\n",
       "      <td>50</td>\n",
       "      <td>201709</td>\n",
       "      <td>居民合表</td>\n",
       "      <td>879.0</td>\n",
       "    </tr>\n",
       "    <tr>\n",
       "      <td>31606</td>\n",
       "      <td>3926287422</td>\n",
       "      <td>50</td>\n",
       "      <td>201710</td>\n",
       "      <td>居民合表</td>\n",
       "      <td>1241.0</td>\n",
       "    </tr>\n",
       "    <tr>\n",
       "      <td>32861</td>\n",
       "      <td>3926287422</td>\n",
       "      <td>50</td>\n",
       "      <td>201711</td>\n",
       "      <td>居民合表</td>\n",
       "      <td>890.0</td>\n",
       "    </tr>\n",
       "    <tr>\n",
       "      <td>34374</td>\n",
       "      <td>3926287422</td>\n",
       "      <td>50</td>\n",
       "      <td>201712</td>\n",
       "      <td>居民合表</td>\n",
       "      <td>642.0</td>\n",
       "    </tr>\n",
       "  </tbody>\n",
       "</table>\n",
       "<p>35016 rows × 5 columns</p>\n",
       "</div>"
      ],
      "text/plain": [
       "             用户ID  水表口径    抄表月份  用水性质      水量\n",
       "1282   3201100322   100  201601  工矿企业  2247.0\n",
       "2682   3201100322   100  201602  工矿企业  4060.0\n",
       "3756   3201100322   100  201603  工矿企业  2652.0\n",
       "6228   3201100322   100  201604  工矿企业  3112.0\n",
       "7621   3201100322   100  201605  工矿企业  3531.0\n",
       "...           ...   ...     ...   ...     ...\n",
       "28507  3926287422    50  201708  居民合表   838.0\n",
       "29885  3926287422    50  201709  居民合表   879.0\n",
       "31606  3926287422    50  201710  居民合表  1241.0\n",
       "32861  3926287422    50  201711  居民合表   890.0\n",
       "34374  3926287422    50  201712  居民合表   642.0\n",
       "\n",
       "[35016 rows x 5 columns]"
      ]
     },
     "execution_count": 23,
     "metadata": {},
     "output_type": "execute_result"
    }
   ],
   "source": [
    "data2"
   ]
  },
  {
   "cell_type": "code",
   "execution_count": 28,
   "metadata": {},
   "outputs": [],
   "source": [
    "df1=data2[data2.抄表月份==201601]\n",
    "df2=data2[data2.抄表月份==201602]\n",
    "df3=data2[data2.抄表月份==201603]\n",
    "df4=data2[data2.抄表月份==201604]\n",
    "df5=data2[data2.抄表月份==201605]\n",
    "df6=data2[data2.抄表月份==201606]\n",
    "df7=data2[data2.抄表月份==201607]\n",
    "df8=data2[data2.抄表月份==201608]\n",
    "df9=data2[data2.抄表月份==201609]\n",
    "df10=data2[data2.抄表月份==201610]\n",
    "df11=data2[data2.抄表月份==201611]\n",
    "df12=data2[data2.抄表月份==201612]\n",
    "df13=data2[data2.抄表月份==201701]\n",
    "df14=data2[data2.抄表月份==201702]\n",
    "df15=data2[data2.抄表月份==201703]\n",
    "df16=data2[data2.抄表月份==201704]\n",
    "df17=data2[data2.抄表月份==201705]\n",
    "df18=data2[data2.抄表月份==201706]\n",
    "df19=data2[data2.抄表月份==201707]\n",
    "df20=data2[data2.抄表月份==201708]\n",
    "df21=data2[data2.抄表月份==201709]\n",
    "df22=data2[data2.抄表月份==201710]\n",
    "df23=data2[data2.抄表月份==201711]\n",
    "df24=data2[data2.抄表月份==201712]"
   ]
  },
  {
   "cell_type": "code",
   "execution_count": 50,
   "metadata": {},
   "outputs": [
    {
     "name": "stderr",
     "output_type": "stream",
     "text": [
      "D:\\Anaconda3\\lib\\site-packages\\ipykernel_launcher.py:1: FutureWarning: The join_axes-keyword is deprecated. Use .reindex or .reindex_like on the result to achieve the same functionality.\n",
      "  \"\"\"Entry point for launching an IPython kernel.\n"
     ]
    }
   ],
   "source": [
    "data3=pd.concat([df1,df2,df3,df4,df5,df6,df7,df8,df9,df10,df11,df12,df13,df14,df15,df16,df17,df18,df19,df20,df21,df22,df23,df24],axis=1,ignore_index=True,join_axes=[df1.用户ID])"
   ]
  },
  {
   "cell_type": "code",
   "execution_count": 73,
   "metadata": {},
   "outputs": [],
   "source": [
    "res=pd.merge(df1,df2,how='inner',on=['用户ID','水表口径'])\n",
    "for i in([df3,df4,df5,df6,df7,df8,df9,df10,df11,df12,df13,df14,df15,df16,df17,df18,df19,df20,df21,df22,df23,df24]):\n",
    "    res=pd.merge(res,i,how='inner',on=['用户ID','水表口径'])"
   ]
  },
  {
   "cell_type": "code",
   "execution_count": 77,
   "metadata": {},
   "outputs": [],
   "source": [
    "res.drop([res.用水性质_y,axis=1,inplace=True)"
   ]
  },
  {
   "cell_type": "code",
   "execution_count": 82,
   "metadata": {},
   "outputs": [],
   "source": [
    "res.drop(res.抄表月份_x,axis=1,inplace=True)"
   ]
  },
  {
   "cell_type": "code",
   "execution_count": 84,
   "metadata": {},
   "outputs": [],
   "source": [
    "res.drop(res.抄表月份_y,axis=1,inplace=True)"
   ]
  },
  {
   "cell_type": "code",
   "execution_count": 94,
   "metadata": {},
   "outputs": [],
   "source": [
    "res.columns=(['用户ID','水表口径','用水性质','1','2','d','3','4','d','5','6','d','7','8','d','9','10','d','11','12','d','13','14','d','15','16','d','17','18','d','19','20','d','21','22','d','23','24'])"
   ]
  },
  {
   "cell_type": "code",
   "execution_count": 96,
   "metadata": {},
   "outputs": [],
   "source": [
    "res.drop(res.d,axis=1,inplace=True)"
   ]
  },
  {
   "cell_type": "code",
   "execution_count": 98,
   "metadata": {},
   "outputs": [],
   "source": [
    "res.to_csv('./mydata/16-17处理.csv',index=False)"
   ]
  },
  {
   "cell_type": "code",
   "execution_count": 100,
   "metadata": {},
   "outputs": [
    {
     "data": {
      "text/html": [
       "<div>\n",
       "<style scoped>\n",
       "    .dataframe tbody tr th:only-of-type {\n",
       "        vertical-align: middle;\n",
       "    }\n",
       "\n",
       "    .dataframe tbody tr th {\n",
       "        vertical-align: top;\n",
       "    }\n",
       "\n",
       "    .dataframe thead th {\n",
       "        text-align: right;\n",
       "    }\n",
       "</style>\n",
       "<table border=\"1\" class=\"dataframe\">\n",
       "  <thead>\n",
       "    <tr style=\"text-align: right;\">\n",
       "      <th></th>\n",
       "      <th>用户ID</th>\n",
       "      <th>水表口径</th>\n",
       "      <th>用水性质</th>\n",
       "      <th>1</th>\n",
       "      <th>2</th>\n",
       "      <th>3</th>\n",
       "      <th>4</th>\n",
       "      <th>5</th>\n",
       "      <th>6</th>\n",
       "      <th>7</th>\n",
       "      <th>...</th>\n",
       "      <th>15</th>\n",
       "      <th>16</th>\n",
       "      <th>17</th>\n",
       "      <th>18</th>\n",
       "      <th>19</th>\n",
       "      <th>20</th>\n",
       "      <th>21</th>\n",
       "      <th>22</th>\n",
       "      <th>23</th>\n",
       "      <th>24</th>\n",
       "    </tr>\n",
       "  </thead>\n",
       "  <tbody>\n",
       "    <tr>\n",
       "      <td>0</td>\n",
       "      <td>3201100322</td>\n",
       "      <td>100</td>\n",
       "      <td>工矿企业</td>\n",
       "      <td>2247.0</td>\n",
       "      <td>4060.0</td>\n",
       "      <td>2652.0</td>\n",
       "      <td>3112.0</td>\n",
       "      <td>3531.0</td>\n",
       "      <td>4968.0</td>\n",
       "      <td>6072.0</td>\n",
       "      <td>...</td>\n",
       "      <td>3796.0</td>\n",
       "      <td>4725.0</td>\n",
       "      <td>2816.0</td>\n",
       "      <td>1977.0</td>\n",
       "      <td>1279.0</td>\n",
       "      <td>1345.0</td>\n",
       "      <td>2437.0</td>\n",
       "      <td>2256.0</td>\n",
       "      <td>699.0</td>\n",
       "      <td>586.0</td>\n",
       "    </tr>\n",
       "    <tr>\n",
       "      <td>1</td>\n",
       "      <td>3201101222</td>\n",
       "      <td>20</td>\n",
       "      <td>工矿企业</td>\n",
       "      <td>41.0</td>\n",
       "      <td>99.0</td>\n",
       "      <td>71.0</td>\n",
       "      <td>53.0</td>\n",
       "      <td>60.0</td>\n",
       "      <td>69.0</td>\n",
       "      <td>83.0</td>\n",
       "      <td>...</td>\n",
       "      <td>65.0</td>\n",
       "      <td>55.0</td>\n",
       "      <td>60.0</td>\n",
       "      <td>80.0</td>\n",
       "      <td>97.0</td>\n",
       "      <td>107.0</td>\n",
       "      <td>95.0</td>\n",
       "      <td>57.0</td>\n",
       "      <td>66.0</td>\n",
       "      <td>55.0</td>\n",
       "    </tr>\n",
       "    <tr>\n",
       "      <td>2</td>\n",
       "      <td>3201101422</td>\n",
       "      <td>50</td>\n",
       "      <td>商贸服务</td>\n",
       "      <td>195.0</td>\n",
       "      <td>320.0</td>\n",
       "      <td>198.0</td>\n",
       "      <td>240.0</td>\n",
       "      <td>197.0</td>\n",
       "      <td>248.0</td>\n",
       "      <td>286.0</td>\n",
       "      <td>...</td>\n",
       "      <td>274.0</td>\n",
       "      <td>283.0</td>\n",
       "      <td>217.0</td>\n",
       "      <td>157.0</td>\n",
       "      <td>135.0</td>\n",
       "      <td>200.0</td>\n",
       "      <td>228.0</td>\n",
       "      <td>266.0</td>\n",
       "      <td>361.0</td>\n",
       "      <td>248.0</td>\n",
       "    </tr>\n",
       "    <tr>\n",
       "      <td>3</td>\n",
       "      <td>3201101622</td>\n",
       "      <td>150</td>\n",
       "      <td>工矿企业</td>\n",
       "      <td>5200.0</td>\n",
       "      <td>7160.0</td>\n",
       "      <td>5270.0</td>\n",
       "      <td>7790.0</td>\n",
       "      <td>8900.0</td>\n",
       "      <td>8060.0</td>\n",
       "      <td>7650.0</td>\n",
       "      <td>...</td>\n",
       "      <td>6627.0</td>\n",
       "      <td>7387.0</td>\n",
       "      <td>8050.0</td>\n",
       "      <td>10768.0</td>\n",
       "      <td>9873.0</td>\n",
       "      <td>10670.0</td>\n",
       "      <td>10141.0</td>\n",
       "      <td>10143.0</td>\n",
       "      <td>9192.0</td>\n",
       "      <td>7934.0</td>\n",
       "    </tr>\n",
       "    <tr>\n",
       "      <td>4</td>\n",
       "      <td>3201102222</td>\n",
       "      <td>40</td>\n",
       "      <td>工矿企业</td>\n",
       "      <td>608.0</td>\n",
       "      <td>856.0</td>\n",
       "      <td>477.0</td>\n",
       "      <td>415.0</td>\n",
       "      <td>288.0</td>\n",
       "      <td>294.0</td>\n",
       "      <td>305.0</td>\n",
       "      <td>...</td>\n",
       "      <td>244.0</td>\n",
       "      <td>156.0</td>\n",
       "      <td>190.0</td>\n",
       "      <td>231.0</td>\n",
       "      <td>215.0</td>\n",
       "      <td>200.0</td>\n",
       "      <td>196.0</td>\n",
       "      <td>188.0</td>\n",
       "      <td>184.0</td>\n",
       "      <td>133.0</td>\n",
       "    </tr>\n",
       "  </tbody>\n",
       "</table>\n",
       "<p>5 rows × 27 columns</p>\n",
       "</div>"
      ],
      "text/plain": [
       "         用户ID  水表口径  用水性质       1       2       3       4       5       6  \\\n",
       "0  3201100322   100  工矿企业  2247.0  4060.0  2652.0  3112.0  3531.0  4968.0   \n",
       "1  3201101222    20  工矿企业    41.0    99.0    71.0    53.0    60.0    69.0   \n",
       "2  3201101422    50  商贸服务   195.0   320.0   198.0   240.0   197.0   248.0   \n",
       "3  3201101622   150  工矿企业  5200.0  7160.0  5270.0  7790.0  8900.0  8060.0   \n",
       "4  3201102222    40  工矿企业   608.0   856.0   477.0   415.0   288.0   294.0   \n",
       "\n",
       "        7  ...      15      16      17       18      19       20       21  \\\n",
       "0  6072.0  ...  3796.0  4725.0  2816.0   1977.0  1279.0   1345.0   2437.0   \n",
       "1    83.0  ...    65.0    55.0    60.0     80.0    97.0    107.0     95.0   \n",
       "2   286.0  ...   274.0   283.0   217.0    157.0   135.0    200.0    228.0   \n",
       "3  7650.0  ...  6627.0  7387.0  8050.0  10768.0  9873.0  10670.0  10141.0   \n",
       "4   305.0  ...   244.0   156.0   190.0    231.0   215.0    200.0    196.0   \n",
       "\n",
       "        22      23      24  \n",
       "0   2256.0   699.0   586.0  \n",
       "1     57.0    66.0    55.0  \n",
       "2    266.0   361.0   248.0  \n",
       "3  10143.0  9192.0  7934.0  \n",
       "4    188.0   184.0   133.0  \n",
       "\n",
       "[5 rows x 27 columns]"
      ]
     },
     "execution_count": 100,
     "metadata": {},
     "output_type": "execute_result"
    }
   ],
   "source": [
    "res.head()"
   ]
  },
  {
   "cell_type": "code",
   "execution_count": null,
   "metadata": {},
   "outputs": [],
   "source": []
  }
 ],
 "metadata": {
  "kernelspec": {
   "display_name": "Python 3",
   "language": "python",
   "name": "python3"
  },
  "language_info": {
   "codemirror_mode": {
    "name": "ipython",
    "version": 3
   },
   "file_extension": ".py",
   "mimetype": "text/x-python",
   "name": "python",
   "nbconvert_exporter": "python",
   "pygments_lexer": "ipython3",
   "version": "3.6.5"
  }
 },
 "nbformat": 4,
 "nbformat_minor": 2
}
