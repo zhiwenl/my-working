{
 "cells": [
  {
   "cell_type": "code",
   "execution_count": 1,
   "metadata": {},
   "outputs": [
    {
     "name": "stdout",
     "output_type": "stream",
     "text": [
      "Using matplotlib backend: Qt5Agg\n"
     ]
    }
   ],
   "source": [
    "%matplotlib"
   ]
  },
  {
   "cell_type": "code",
   "execution_count": 3,
   "metadata": {},
   "outputs": [],
   "source": [
    "from sklearn.datasets import make_blobs#使用make_blobs进行knn分类\n",
    "from sklearn.neighbors import KNeighborsClassifier#导入KNN分类器\n",
    "import matplotlib.pyplot as plt#导入画图\n",
    "from sklearn.model_selection import train_test_split#导入数据集拆分工具\n",
    "data=make_blobs(n_samples=1500,centers=2,cluster_std=1.8,random_state=8)\n",
    "X,y=data\n",
    "plt.scatter(X[:,0],X[:,1],y==0,marker='o',color='red',label='class 1')\n",
    "plt.scatter(X[:,0],X[:,1],y==1,marker='o',color='green',label='class 2')\n",
    "plt.scatter(7,5,marker='o',s=800,c='',edgecolors='black')\n",
    "plt.scatter(3.5,11,marker='o',s=800,c='',edgecolors='black')\n",
    "plt.scatter(7,0,marker='o',s=800,c='',edgecolors='black')\n",
    "plt.text(7,5,'C',fontsize=12)\n",
    "plt.text(3.5,11,'B',fontsize=12)\n",
    "plt.text(7,0,'A',fontsize=12)\n",
    "plt.xlabel('Dimension 1')\n",
    "plt.ylabel('Dimension 2')\n",
    "plt.legend()\n",
    "plt.show()\n",
    "#plt.savefig(r'./示例图/示例图1.png')"
   ]
  },
  {
   "cell_type": "code",
   "execution_count": null,
   "metadata": {},
   "outputs": [],
   "source": []
  },
  {
   "cell_type": "code",
   "execution_count": null,
   "metadata": {},
   "outputs": [],
   "source": []
  }
 ],
 "metadata": {
  "kernelspec": {
   "display_name": "Python 3",
   "language": "python",
   "name": "python3"
  },
  "language_info": {
   "codemirror_mode": {
    "name": "ipython",
    "version": 3
   },
   "file_extension": ".py",
   "mimetype": "text/x-python",
   "name": "python",
   "nbconvert_exporter": "python",
   "pygments_lexer": "ipython3",
   "version": "3.6.5"
  }
 },
 "nbformat": 4,
 "nbformat_minor": 2
}
