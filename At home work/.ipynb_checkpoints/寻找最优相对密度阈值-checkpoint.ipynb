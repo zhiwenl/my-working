{
 "cells": [
  {
   "cell_type": "code",
   "execution_count": 3,
   "metadata": {},
   "outputs": [],
   "source": [
    "class Node:\n",
    "    def __init__(self, data, depth=0, lchild=None, rchild=None):\n",
    "        self.data = data\n",
    "        self.depth = depth\n",
    "        self.lchild = lchild\n",
    "        self.rchild = rchild\n",
    "\n",
    "\n",
    "class KdTree:\n",
    "    def __init__(self):\n",
    "        self.KdTree = None\n",
    "        self.n = 0\n",
    "        self.nearest = None\n",
    "\n",
    "    def create(self, dataSet, depth=0):\n",
    "        if len(dataSet) > 0:\n",
    "            m, n = np.shape(dataSet)\n",
    "            self.n = n - 1\n",
    "            axis = depth % self.n\n",
    "            mid = int(m / 2)\n",
    "            dataSetcopy = sorted(dataSet, key=lambda x: x[axis])\n",
    "            node = Node(dataSetcopy[mid], depth)\n",
    "            if depth == 0:\n",
    "                self.KdTree = node\n",
    "            node.lchild = self.create(dataSetcopy[:mid], depth+1)\n",
    "            node.rchild = self.create(dataSetcopy[mid+1:], depth+1)\n",
    "            return node\n",
    "        return None\n",
    "\n",
    "    def preOrder(self, node):\n",
    "        if node is not None:\n",
    "            print(node.depth, node.data)\n",
    "            self.preOrder(node.lchild)\n",
    "            self.preOrder(node.rchild)\n",
    "\n",
    "    def search(self, x, count=1):\n",
    "        nearest = []\n",
    "        for i in range(count):\n",
    "            nearest.append([-1, None])\n",
    "        self.nearest = np.array(nearest)\n",
    "\n",
    "        def recurve(node):\n",
    "            if node is not None:\n",
    "                axis = node.depth % self.n\n",
    "                daxis = x[axis] - node.data[axis]\n",
    "                if daxis < 0:\n",
    "                    recurve(node.lchild)\n",
    "                else:\n",
    "                    recurve(node.rchild)\n",
    "\n",
    "                dist = sqrt(sum((p1 - p2) ** 2 for p1, p2 in zip(x, node.data)))\n",
    "                for i, d in enumerate(self.nearest):\n",
    "                    if d[0] < 0 or dist < d[0]:\n",
    "                        self.nearest = np.insert(self.nearest, i, [dist, node], axis=0)\n",
    "                        self.nearest = self.nearest[:-1]\n",
    "                        break\n",
    "\n",
    "                n = list(self.nearest[:, 0]).count(-1)\n",
    "                if self.nearest[-n-1, 0] > abs(daxis):\n",
    "                    if daxis < 0:\n",
    "                        recurve(node.rchild)\n",
    "                    else:\n",
    "                        recurve(node.lchild)\n",
    "\n",
    "        recurve(self.KdTree)\n",
    "\n",
    "        knn = self.nearest[:, 1]\n",
    "        belong = []\n",
    "        for i in knn:\n",
    "            belong.append(i.data[-1])\n",
    "        b = max(set(belong), key=belong.count)\n",
    "\n",
    "        return self.nearest, b"
   ]
  },
  {
   "cell_type": "code",
   "execution_count": 8,
   "metadata": {},
   "outputs": [
    {
     "name": "stdout",
     "output_type": "stream",
     "text": [
      "Wall time: 250 ms\n",
      "Compiler : 101 ms\n",
      "Parser   : 366 ms\n"
     ]
    }
   ],
   "source": [
    "%%time\n",
    "import numpy as np\n",
    "from math import sqrt\n",
    "import pandas as pd\n",
    "from sklearn.datasets import load_iris\n",
    "import matplotlib.pyplot as plt\n",
    "from sklearn import preprocessing\n",
    "min_max_scaler=preprocessing.MinMaxScaler()\n",
    "\n",
    "def run(df):\n",
    "    rate=0.1\n",
    "    noise_set=pd.DataFrame(columns=df.columns)\n",
    "    for r in range(0,(df.label.max()+1)):    \n",
    "        noise_set=pd.concat([noise_set,df[df.label==r].sample(frac=rate, replace=False)]) #选取噪声比例  \n",
    "    #bb=df[df.label==1].sample(frac=rate, replace=False) #选取噪声比例\n",
    "    #cc=df[df.label==2].sample(frac=rate, replace=False) #选取噪声比例\n",
    " \n",
    "    data_cut=df[~df.index.isin(noise_set.index)]\n",
    "    no=[]\n",
    "    for j in range(0,len(noise_set)):\n",
    "        no.append(int(np.random.rand(1)[0]*(df.label.max()+1))%10)\n",
    "    noise_set['label2']=no\n",
    "    noise_set.reset_index(drop=True,inplace=True)\n",
    "    for l in range(0,len(noise_set)):  #随机替换标签\n",
    "        if (noise_set.loc[l,'label']==noise_set.loc[l,'label2']):\n",
    "            noise_set.loc[l,'label2']=(noise_set.loc[l,'label']+1) % (df.label.max()+1)\n",
    "    noise=noise_set.drop(['label'],axis=1)\n",
    "    noise.rename(columns={'label2':'label'}, inplace = True)\n",
    "    data= pd.concat([data_cut,noise],axis=0,ignore_index=True) #含噪声数据集\n",
    "\n",
    "    data=np.array(data)\n",
    "    kdt = KdTree()\n",
    "    kdt.create(data)\n",
    "    # kdt.preOrder(kdt.KdTree)\n",
    "\n",
    "    dist2=[]\n",
    "    data2=np.array(df.drop('label',axis=1))\n",
    "    for m in range(0,len(data2)):\n",
    "        for n in range(m+1,len(data2)):\n",
    "             dist2.append(sqrt(sum((data2[m] - data2[n]) ** 2 )))\n",
    "    F1 = []\n",
    "    a = np.percentile(dist2,10) #密度阈值(%10分位数)\n",
    "    for  in range(1,61):\n",
    "        #print('k值：',k)\n",
    "        x1 = np.array([[1,1],[1,-1]])\n",
    "        x2 = np.array([1,np.floor(k / 3)/ k])\n",
    "        (Ps_,Pd_)=np.linalg.solve(x1,x2)\n",
    "        H_ = -Ps_* np.log2(Ps_)-Pd_*np.log2(Pd_) #标签混合程度阈值\n",
    "\n",
    "        Dn = []\n",
    "        for x in data:\n",
    "            #plt.scatter(x[0], x[1], c='red', marker='x')  # 测试点\n",
    "            near, belong = kdt.search(x[:-1], k+1)  # 设置临近点的个数\n",
    "            #print(\"test:\")\n",
    "           # print(x, \"predict:\", belong)\n",
    "           # print(\"nearest:\")\n",
    "            density = 0\n",
    "            t = 0\n",
    "            for n in near:\n",
    "                #print(n[1].data, \"dist:\", n[0])\n",
    "                #plt.scatter(n[1].data[0], n[1].data[1], c='green', marker='+')  # k个最近邻点\n",
    "                density += n[0]  #密度\n",
    "                if (x[-1] == n[1].data[-1])and(x != n[1].data).any():\n",
    "                    t += 1\n",
    "            Ps = t / k\n",
    "            Pd = 1 - Ps\n",
    "            if (Ps==1)|(Ps==0):\n",
    "                H = 0\n",
    "            else:\n",
    "                H = -Ps* np.log2(Ps)-Pd*np.log2(Pd)\n",
    "\n",
    "           # print(densit)\n",
    "            if (density <= a): #高密度区域\n",
    "                if x[-1] != belong:\n",
    "                    Dn.append(list(x))\n",
    "\n",
    "                    #print('高密度区域噪声')\n",
    "            else:\n",
    "                if (H <= H_): #低密度单一标签区域\n",
    "                    if x[-1] != belong:\n",
    "                        Dn.append(list(x))\n",
    "                       # print('H:',H)\n",
    "                       # print('低密度单一区域噪声')\n",
    "                else: #低密度混合标签区域\n",
    "                    hon,hen= -1,0\n",
    "                    dist_hon,dist_hen = 0,0\n",
    "                    for n in near:\n",
    "                        if x[-1]==n[-1].data[-1]:\n",
    "                            hon += 1\n",
    "                            dist_hon += n[0]\n",
    "                        else:\n",
    "                            hen +=1\n",
    "                            dist_hen += n[0]\n",
    "                    if (dist_hon / hon) / (dist_hen / hen) > 1.2:\n",
    "                        Dn.append(list(x))\n",
    "                       # print('H:',H)\n",
    "                       # print('低密度混合标签区域噪声')\n",
    "\n",
    "        #print('标签噪声：',Dn)\n",
    "        noise_list=noise.values.tolist()\n",
    "        TP = 0\n",
    "        for c in Dn:\n",
    "            if c in noise_list:\n",
    "                TP += 1\n",
    "        FP = len(Dn) - TP\n",
    "        FN = len(noise_list) - TP\n",
    "        precision= TP / (TP + FP)\n",
    "        recall= TP / (TP + FN)\n",
    "        f1=2 * (precision * recall) / (precision + recall)\n",
    "        F1.append(f1) #F1值\n",
    "    return F1"
   ]
  },
  {
   "cell_type": "markdown",
   "metadata": {},
   "source": [
    "#鸢尾花数据集"
   ]
  },
  {
   "cell_type": "code",
   "execution_count": 9,
   "metadata": {},
   "outputs": [
    {
     "name": "stdout",
     "output_type": "stream",
     "text": [
      "Wall time: 44.5 s\n",
      "Parser   : 101 ms\n"
     ]
    }
   ],
   "source": [
    "%%time\n",
    "iris = load_iris()\n",
    "iris_sample = pd.DataFrame(iris.data, columns=iris.feature_names)\n",
    "iris_sample = pd.DataFrame(min_max_scaler.fit_transform(np.array(iris_sample)))\n",
    "iris_sample['label'] = iris.target\n",
    "iris_F1=run(iris_sample)"
   ]
  },
  {
   "cell_type": "markdown",
   "metadata": {},
   "source": [
    "#红酒数据集"
   ]
  },
  {
   "cell_type": "code",
   "execution_count": 4,
   "metadata": {},
   "outputs": [
    {
     "name": "stdout",
     "output_type": "stream",
     "text": [
      "Wall time: 2min 19s\n"
     ]
    }
   ],
   "source": [
    "%%time\n",
    "from sklearn.datasets import load_wine\n",
    "wine= load_wine()\n",
    "wine_sample = pd.DataFrame(wine.data, columns=wine.feature_names)\n",
    "wine_sample = pd.DataFrame(min_max_scaler.fit_transform(np.array(wine_sample)))\n",
    "wine_sample['label'] = wine.target\n",
    "wine_F1=run(wine_sample)"
   ]
  },
  {
   "cell_type": "markdown",
   "metadata": {},
   "source": [
    "#种子数据集"
   ]
  },
  {
   "cell_type": "code",
   "execution_count": 5,
   "metadata": {},
   "outputs": [
    {
     "name": "stdout",
     "output_type": "stream",
     "text": [
      "Wall time: 1min 51s\n"
     ]
    }
   ],
   "source": [
    "%%time\n",
    "seeds=pd.read_table('./mydata/Seed.txt',engine='python',names=['area','perimeter','compactness','length of kernel','width of kernel','asymmetry coefficient','length of kernel groove','label'])\n",
    "seeds_sample=seeds[['area','perimeter','compactness','length of kernel','width of kernel','asymmetry coefficient','length of kernel groove']]\n",
    "seeds_sample=pd.DataFrame(min_max_scaler.fit_transform(np.array(seeds_sample)))\n",
    "seeds_sample['label']=seeds.label\n",
    "seeds_F1=run(seeds_sample)"
   ]
  },
  {
   "cell_type": "markdown",
   "metadata": {},
   "source": [
    "#避孕方法数据集"
   ]
  },
  {
   "cell_type": "code",
   "execution_count": 13,
   "metadata": {
    "scrolled": true
   },
   "outputs": [
    {
     "name": "stdout",
     "output_type": "stream",
     "text": [
      "Wall time: 1h 13min 33s\n"
     ]
    }
   ],
   "source": [
    "%%time\n",
    "cmc=pd.read_table('./mydata/contraception.txt',sep=',',names=['wife_age','wife_edu','husband_edu','num_child','wife_religion','wife_work_station','husband_occupation','living_level','media_exposure','label'])\n",
    "cmc.drop_duplicates(inplace=True)#删除重复数据\n",
    "cmc_sample=cmc[['wife_age','wife_edu','husband_edu','num_child','wife_religion','wife_work_station','husband_occupation','living_level','media_exposure']]\n",
    "cmc_sample=pd.DataFrame(min_max_scaler.fit_transform(np.array(cmc_sample)))\n",
    "cmc_sample['label']=list(cmc.label-1) # 不加list标签会出错\n",
    "cmc_F1=run(cmc_sample)"
   ]
  },
  {
   "cell_type": "markdown",
   "metadata": {},
   "source": [
    "#汽车数据集"
   ]
  },
  {
   "cell_type": "code",
   "execution_count": 14,
   "metadata": {},
   "outputs": [
    {
     "name": "stdout",
     "output_type": "stream",
     "text": [
      "Wall time: 43min 15s\n"
     ]
    }
   ],
   "source": [
    "%%time\n",
    "statlog=pd.read_csv('./mydata/statlog.csv',engine='python')\n",
    "statlog.drop_duplicates(inplace=True)\n",
    "statlog_sample=statlog[['1','2','3','4','5','6','7','8','9','10','11','12','13','14','15','16','17','18']]\n",
    "statlog_sample=pd.DataFrame(min_max_scaler.fit_transform(np.array(statlog_sample)))\n",
    "statlog_sample['label']=statlog.label  \n",
    "statlog_F1=run(statlog_sample)"
   ]
  },
  {
   "cell_type": "markdown",
   "metadata": {},
   "source": [
    "#蛋白质定位点数据集"
   ]
  },
  {
   "cell_type": "code",
   "execution_count": 15,
   "metadata": {},
   "outputs": [
    {
     "name": "stdout",
     "output_type": "stream",
     "text": [
      "Wall time: 3min 32s\n"
     ]
    }
   ],
   "source": [
    "%%time\n",
    "ecoli=pd.read_csv('./mydata/ecoli.csv')\n",
    "ecoli_F1=run(ecoli)"
   ]
  },
  {
   "cell_type": "markdown",
   "metadata": {},
   "source": [
    "#玻璃数据集"
   ]
  },
  {
   "cell_type": "code",
   "execution_count": 16,
   "metadata": {},
   "outputs": [
    {
     "name": "stdout",
     "output_type": "stream",
     "text": [
      "Wall time: 2min 41s\n"
     ]
    }
   ],
   "source": [
    "%%time\n",
    "glass=pd.read_csv('./mydata/glass.csv')\n",
    "glass_sample=glass.drop(['label'],axis=1)\n",
    "glass_sample=pd.DataFrame(min_max_scaler.fit_transform(np.array(glass_sample)))\n",
    "glass_sample['label']=glass.label\n",
    "glass_F1=run(glass_sample)"
   ]
  },
  {
   "cell_type": "markdown",
   "metadata": {},
   "source": [
    "#鲍鱼数据集"
   ]
  },
  {
   "cell_type": "code",
   "execution_count": 4,
   "metadata": {},
   "outputs": [
    {
     "name": "stdout",
     "output_type": "stream",
     "text": [
      "Wall time: 1h 57min 38s\n"
     ]
    }
   ],
   "source": [
    "%%time\n",
    "ablone=pd.read_csv('./mydata/ablone2.csv')\n",
    "#ablone_sample=ablone[['1','2','3','4','5','6','7','8']]\n",
    "#ablone_sample=pd.DataFrame(min_max_scaler.fit_transform(np.array(ablone_sample)))\n",
    "#ablone_sample['label']=ablone.label\n",
    "ablone_F1=run(ablone)"
   ]
  },
  {
   "cell_type": "code",
   "execution_count": 5,
   "metadata": {},
   "outputs": [
    {
     "data": {
      "text/plain": [
       "[0.21241202815099167,\n",
       " 0.25728155339805825,\n",
       " 0.25438100621820237,\n",
       " 0.27471940138963125,\n",
       " 0.2739018087855297,\n",
       " 0.2691721686135094,\n",
       " 0.2731755424063117,\n",
       " 0.2737457379444715,\n",
       " 0.27612655800575264,\n",
       " 0.277882797731569,\n",
       " 0.27024525682554373,\n",
       " 0.2732342007434944,\n",
       " 0.2718181818181818,\n",
       " 0.27388535031847133,\n",
       " 0.2702947845804989,\n",
       " 0.27467030468394726,\n",
       " 0.2718271827182719,\n",
       " 0.2733031674208145,\n",
       " 0.26864330637915546,\n",
       " 0.2694907616043263,\n",
       " 0.27068345323741005,\n",
       " 0.2710196779964222,\n",
       " 0.2680869951176209,\n",
       " 0.27129060579455666,\n",
       " 0.2706964520367937,\n",
       " 0.26730937773882557,\n",
       " 0.2699602999558888,\n",
       " 0.27100747910250766,\n",
       " 0.26918018412976763,\n",
       " 0.2675994752951465,\n",
       " 0.2660869565217391,\n",
       " 0.2659713168187745,\n",
       " 0.2657952069716775,\n",
       " 0.2675324675324675,\n",
       " 0.26944806605823557,\n",
       " 0.2726480836236934,\n",
       " 0.2732003469210755,\n",
       " 0.27205562798783134,\n",
       " 0.27095093356491534,\n",
       " 0.2712742980561555,\n",
       " 0.26845058264997845,\n",
       " 0.270481144343303,\n",
       " 0.26586620926243565,\n",
       " 0.2652973898160034,\n",
       " 0.2624356775300172,\n",
       " 0.26724137931034486,\n",
       " 0.2670111972437554,\n",
       " 0.2667242123435477,\n",
       " 0.2663811563169165,\n",
       " 0.2667821567778259,\n",
       " 0.26195605342524775,\n",
       " 0.26718213058419243,\n",
       " 0.2609442060085837,\n",
       " 0.2588134135855546,\n",
       " 0.2599401453612655,\n",
       " 0.25968497232865045,\n",
       " 0.2600253271422541,\n",
       " 0.26621449766850364,\n",
       " 0.26536668079694786,\n",
       " 0.2627551020408163]"
      ]
     },
     "execution_count": 5,
     "metadata": {},
     "output_type": "execute_result"
    }
   ],
   "source": [
    "ablone_F1"
   ]
  },
  {
   "cell_type": "markdown",
   "metadata": {},
   "source": [
    "#图像分割数据集"
   ]
  },
  {
   "cell_type": "code",
   "execution_count": 18,
   "metadata": {},
   "outputs": [
    {
     "name": "stdout",
     "output_type": "stream",
     "text": [
      "Wall time: 3min 29s\n",
      "Parser   : 472 ms\n"
     ]
    }
   ],
   "source": [
    "%%time\n",
    "image=pd.read_csv('./mydata/image.csv')\n",
    "image_sample=image.drop(['label'],axis=1)\n",
    "image_sample=pd.DataFrame(min_max_scaler.fit_transform(np.array(image_sample)))\n",
    "image_sample['label']=image.label\n",
    "image_F1=run(image_sample)"
   ]
  },
  {
   "cell_type": "code",
   "execution_count": 21,
   "metadata": {},
   "outputs": [
    {
     "data": {
      "image/png": "[encoded data removed]",
      "text/plain": [
       "<Figure size 432x288 with 1 Axes>"
      ]
     },
     "metadata": {
      "needs_background": "light"
     },
     "output_type": "display_data"
    }
   ],
   "source": [
    "import matplotlib as mpl\n",
    "mpl.rcParams['font.sans-serif'] = [u'SimHei']\n",
    "mpl.rcParams['axes.unicode_minus'] = False\n",
    "k_value=range(1,61)\n",
    "plt.plot(k_value,iris_F1,'r-',label='Iris')\n",
    "plt.plot(k_value,wine_F1,'g-',label='Wine')\n",
    "plt.plot(k_value,seeds_F1,'b-',label='Seeds')\n",
    "plt.plot(k_value,cmc_F1,'y-',label='Contraception')\n",
    "plt.plot(k_value,statlog_F1,'c-',label='Statlog')\n",
    "plt.plot(k_value,ecoli_F1,'m-',label='Ecoli')\n",
    "plt.plot(k_value,glass_F1,'k-',label='Glass')\n",
    "plt.plot(k_value,image_F1,'-',color='brown',label='Image')\n",
    "plt.plot(k_value,ablone_F1,'-',color='orange',label='Ablone')\n",
    "plt.xlabel('k',fontsize=16)\n",
    "plt.ylabel('F1',fontsize=16)\n",
    "plt.title('F1值曲线图')\n",
    "plt.legend(bbox_to_anchor=(1.05, 0), loc=3, borderaxespad=0)\n",
    "plt.show()"
   ]
  },
  {
   "cell_type": "code",
   "execution_count": 25,
   "metadata": {},
   "outputs": [],
   "source": [
    "Fsum=list(np.array(iris_F1)+np.array(wine_F1)+np.array(seeds_F1)+np.array(cmc_F1)+np.array(statlog_F1)+np.array(ecoli_F1)+np.array(glass_F1)+np.array(image_F1)+np.array(ablone_F1))"
   ]
  },
  {
   "cell_type": "code",
   "execution_count": 29,
   "metadata": {},
   "outputs": [
    {
     "data": {
      "image/png": "[encoded data removed]",
      "text/plain": [
       "<Figure size 432x288 with 1 Axes>"
      ]
     },
     "metadata": {
      "needs_background": "light"
     },
     "output_type": "display_data"
    }
   ],
   "source": [
    "plt.plot(k_value,Fsum,'r-')\n",
    "plt.xlabel('k',fontsize=16)\n",
    "plt.ylabel('F1累加值',fontsize=16)\n",
    "plt.title('不同数据集F1值累加曲线图',fontsize=16)\n",
    "plt.show()"
   ]
  },
  {
   "cell_type": "code",
   "execution_count": 30,
   "metadata": {},
   "outputs": [
    {
     "data": {
      "text/plain": [
       "4"
      ]
     },
     "execution_count": 30,
     "metadata": {},
     "output_type": "execute_result"
    }
   ],
   "source": [
    "#Fsum.index(max(Fsum))"
   ]
  },
  {
   "cell_type": "code",
   "execution_count": 33,
   "metadata": {},
   "outputs": [
    {
     "data": {
      "text/plain": [
       "5.448138218038571"
      ]
     },
     "execution_count": 33,
     "metadata": {},
     "output_type": "execute_result"
    }
   ],
   "source": [
    "#max(Fsum)"
   ]
  },
  {
   "cell_type": "code",
   "execution_count": 48,
   "metadata": {},
   "outputs": [],
   "source": [
    "ablone_F_fill,statlog_F_fill,cmc_F_fill=[],[],[]\n",
    "for o in range(60):\n",
    "    ablone_F_fill.append(ablone_F1)\n",
    "    statlog_F_fill.append(statlog_F1)\n",
    "    cmc_F_fill.append(cmc_F1)"
   ]
  },
  {
   "cell_type": "code",
   "execution_count": 43,
   "metadata": {},
   "outputs": [],
   "source": [
    "def plot_fscore(F_score,title):\n",
    "    F_source=pd.DataFrame(F_score)\n",
    "    f, ax = plt.subplots(figsize=(6,6))\n",
    "#cmap = sns.cubehelix_palette(start = 1.5, rot = 3, gamma=0.8, as_cmap = True)\n",
    "    h=sns.heatmap(F_source, linewidths = 0.01, ax=ax,cbar=False)\n",
    "    font = {'family' : 'serif',\n",
    "            'color'  : 'darkred',\n",
    "            'weight' : 'normal',\n",
    "            'size'   : 16,\n",
    "            }\n",
    "    cb=h.figure.colorbar(h.collections[0])\n",
    "    cb.ax.tick_params(labelsize=12)#设置色标刻度字体大小\n",
    "    cb.set_label('F1',fontdict=font)\n",
    "    ax.set_title(title,fontsize=20)\n",
    "    ax.set_xlabel('k',fontsize=20)\n",
    "    ax.set_ylabel('a',fontsize=20)\n",
    "    ax.axis([0,60,0,60])\n",
    "    plt.xticks([0,20,40,60],['0','20','40','60'],fontsize=12)                         \n",
    "    plt.yticks([20,40,60],['20','40','60'],fontsize=12)\n",
    "    plt.show()"
   ]
  },
  {
   "cell_type": "code",
   "execution_count": 45,
   "metadata": {},
   "outputs": [
    {
     "data": {
      "image/png": "[encoded data removed]",
      "text/plain": [
       "<Figure size 432x432 with 2 Axes>"
      ]
     },
     "metadata": {
      "needs_background": "light"
     },
     "output_type": "display_data"
    }
   ],
   "source": [
    "import seaborn as sns\n",
    "plot_fscore(ablone_F_fill,'(g)Ablone')"
   ]
  },
  {
   "cell_type": "code",
   "execution_count": 49,
   "metadata": {},
   "outputs": [
    {
     "data": {
      "image/png": "[encoded data removed]",
      "text/plain": [
       "<Figure size 432x432 with 2 Axes>"
      ]
     },
     "metadata": {
      "needs_background": "light"
     },
     "output_type": "display_data"
    }
   ],
   "source": [
    "plot_fscore(statlog_F_fill,'(h)Statlog')"
   ]
  },
  {
   "cell_type": "code",
   "execution_count": 50,
   "metadata": {},
   "outputs": [
    {
     "data": {
      "image/png": "[encoded data removed]",
      "text/plain": [
       "<Figure size 432x432 with 2 Axes>"
      ]
     },
     "metadata": {
      "needs_background": "light"
     },
     "output_type": "display_data"
    }
   ],
   "source": [
    "plot_fscore(cmc_F_fill,'(i)Contraception')"
   ]
  },
  {
   "cell_type": "markdown",
   "metadata": {},
   "source": [
    "#字母数据集"
   ]
  },
  {
   "cell_type": "code",
   "execution_count": 6,
   "metadata": {},
   "outputs": [
    {
     "name": "stdout",
     "output_type": "stream",
     "text": [
      "Wall time: 2h 40min 18s\n"
     ]
    }
   ],
   "source": [
    "%%time\n",
    "letter=pd.read_csv('./mydata/letter.csv')\n",
    "letter_sample=letter.drop(['label'],axis=1)\n",
    "letter_sample=pd.DataFrame(min_max_scaler.fit_transform(np.array(letter_sample)))\n",
    "letter_sample['label']=letter.label\n",
    "letter_F1=run(letter_sample)"
   ]
  },
  {
   "cell_type": "code",
   "execution_count": 7,
   "metadata": {},
   "outputs": [
    {
     "data": {
      "text/plain": [
       "[0.40898876404494383,\n",
       " 0.8947368421052632,\n",
       " 0.949671772428884,\n",
       " 0.9804772234273318,\n",
       " 0.9848812095032398,\n",
       " 0.9978308026030369,\n",
       " 0.9978308026030369,\n",
       " 0.9956709956709957,\n",
       " 0.9978308026030369,\n",
       " 0.9956709956709957,\n",
       " 0.9956709956709957,\n",
       " 0.9913793103448275,\n",
       " 0.9913793103448275,\n",
       " 0.989247311827957,\n",
       " 0.989247311827957,\n",
       " 0.9850107066381156,\n",
       " 0.9850107066381156,\n",
       " 0.9871244635193133,\n",
       " 0.9871244635193133,\n",
       " 0.9808102345415778,\n",
       " 0.9850107066381156,\n",
       " 0.9787234042553191,\n",
       " 0.9745762711864406,\n",
       " 0.9766454352441614,\n",
       " 0.9704641350210971,\n",
       " 0.9725158562367865,\n",
       " 0.9663865546218486,\n",
       " 0.9643605870020964,\n",
       " 0.9643605870020964,\n",
       " 0.9663865546218486,\n",
       " 0.9663865546218486,\n",
       " 0.9663865546218486,\n",
       " 0.9643605870020964,\n",
       " 0.9643605870020964,\n",
       " 0.9663865546218486,\n",
       " 0.9623430962343097,\n",
       " 0.9623430962343097,\n",
       " 0.9543568464730291,\n",
       " 0.9523809523809523,\n",
       " 0.9523809523809523,\n",
       " 0.9465020576131687,\n",
       " 0.9465020576131687,\n",
       " 0.9426229508196722,\n",
       " 0.9426229508196722,\n",
       " 0.9387755102040816,\n",
       " 0.9330628803245435,\n",
       " 0.9330628803245435,\n",
       " 0.9252525252525253,\n",
       " 0.9215291750503019,\n",
       " 0.9193548387096774,\n",
       " 0.9119999999999999,\n",
       " 0.9101796407185629,\n",
       " 0.9156626506024097,\n",
       " 0.9138276553106213,\n",
       " 0.9156626506024097,\n",
       " 0.901185770750988,\n",
       " 0.8994082840236686,\n",
       " 0.8941176470588236,\n",
       " 0.8906249999999999,\n",
       " 0.888888888888889]"
      ]
     },
     "execution_count": 7,
     "metadata": {},
     "output_type": "execute_result"
    }
   ],
   "source": [
    "letter_F1"
   ]
  },
  {
   "cell_type": "code",
   "execution_count": null,
   "metadata": {},
   "outputs": [],
   "source": []
  }
 ],
 "metadata": {
  "kernelspec": {
   "display_name": "Python 3",
   "language": "python",
   "name": "python3"
  },
  "language_info": {
   "codemirror_mode": {
    "name": "ipython",
    "version": 3
   },
   "file_extension": ".py",
   "mimetype": "text/x-python",
   "name": "python",
   "nbconvert_exporter": "python",
   "pygments_lexer": "ipython3",
   "version": "3.7.4"
  }
 },
 "nbformat": 4,
 "nbformat_minor": 2
}
