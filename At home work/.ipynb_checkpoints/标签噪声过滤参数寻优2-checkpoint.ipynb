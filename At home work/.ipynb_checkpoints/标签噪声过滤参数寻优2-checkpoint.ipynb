{
 "cells": [
  {
   "cell_type": "code",
   "execution_count": 1,
   "metadata": {},
   "outputs": [],
   "source": [
    "class Node:\n",
    "    def __init__(self, data, depth=0, lchild=None, rchild=None):\n",
    "        self.data = data\n",
    "        self.depth = depth\n",
    "        self.lchild = lchild\n",
    "        self.rchild = rchild\n",
    "\n",
    "\n",
    "class KdTree:\n",
    "    def __init__(self):\n",
    "        self.KdTree = None\n",
    "        self.n = 0\n",
    "        self.nearest = None\n",
    "\n",
    "    def create(self, dataSet, depth=0):\n",
    "        if len(dataSet) > 0:\n",
    "            m, n = np.shape(dataSet)\n",
    "            self.n = n - 1\n",
    "            axis = depth % self.n\n",
    "            mid = int(m / 2)\n",
    "            dataSetcopy = sorted(dataSet, key=lambda x: x[axis])\n",
    "            node = Node(dataSetcopy[mid], depth)\n",
    "            if depth == 0:\n",
    "                self.KdTree = node\n",
    "            node.lchild = self.create(dataSetcopy[:mid], depth+1)\n",
    "            node.rchild = self.create(dataSetcopy[mid+1:], depth+1)\n",
    "            return node\n",
    "        return None\n",
    "\n",
    "    def preOrder(self, node):\n",
    "        if node is not None:\n",
    "            print(node.depth, node.data)\n",
    "            self.preOrder(node.lchild)\n",
    "            self.preOrder(node.rchild)\n",
    "\n",
    "    def search(self, x, count=1):\n",
    "        nearest = []\n",
    "        for i in range(count):\n",
    "            nearest.append([-1, None])\n",
    "        self.nearest = np.array(nearest)\n",
    "\n",
    "        def recurve(node):\n",
    "            if node is not None:\n",
    "                axis = node.depth % self.n\n",
    "                daxis = x[axis] - node.data[axis]\n",
    "                if daxis < 0:\n",
    "                    recurve(node.lchild)\n",
    "                else:\n",
    "                    recurve(node.rchild)\n",
    "\n",
    "                dist = sqrt(sum((p1 - p2) ** 2 for p1, p2 in zip(x, node.data)))\n",
    "                for i, d in enumerate(self.nearest):\n",
    "                    if d[0] < 0 or dist < d[0]:\n",
    "                        self.nearest = np.insert(self.nearest, i, [dist, node], axis=0)\n",
    "                        self.nearest = self.nearest[:-1]\n",
    "                        break\n",
    "\n",
    "                n = list(self.nearest[:, 0]).count(-1)\n",
    "                if self.nearest[-n-1, 0] > abs(daxis):\n",
    "                    if daxis < 0:\n",
    "                        recurve(node.rchild)\n",
    "                    else:\n",
    "                        recurve(node.lchild)\n",
    "\n",
    "        recurve(self.KdTree)\n",
    "\n",
    "        knn = self.nearest[:, 1]\n",
    "        belong = []\n",
    "        for i in knn:\n",
    "            belong.append(i.data[-1])\n",
    "        b = max(set(belong), key=belong.count)\n",
    "\n",
    "        return self.nearest, b"
   ]
  },
  {
   "cell_type": "code",
   "execution_count": 6,
   "metadata": {},
   "outputs": [],
   "source": [
    "import numpy as np\n",
    "from math import sqrt\n",
    "import pandas as pd\n",
    "import matplotlib.pyplot as plt\n",
    "import seaborn as sns\n",
    "import mpl_toolkits.axisartist.axislines as axislines\n",
    "import matplotlib as mpl\n",
    "from sklearn import preprocessing\n",
    "min_max_scaler=preprocessing.MinMaxScaler()\n",
    "mpl.rcParams['font.sans-serif'] = [u'SimHei']\n",
    "mpl.rcParams['axes.unicode_minus'] = False\n",
    "\n",
    "def run(df):\n",
    "    rate=0.1\n",
    "    aa=df[df.label==0].sample(frac=rate, replace=False) #选取噪声比例\n",
    "    bb=df[df.label==1].sample(frac=rate, replace=False) #选取噪声比例\n",
    "    cc=df[df.label==2].sample(frac=rate, replace=False) #选取噪声比例\n",
    "    noise_set=pd.concat([aa,bb,cc],axis=0)\n",
    "    data_cut=df[~df.index.isin(noise_set.index)]\n",
    "    no=[]\n",
    "    for j in range(0,len(noise_set)):\n",
    "        no.append(int(np.random.rand(1)[0]*(df.label.max()+1)%10)\n",
    "    noise_set['label2']=no\n",
    "    noise_set.reset_index(drop=True,inplace=True)\n",
    "    for l in range(0,len(noise_set)):  #随机替换标签\n",
    "        if (noise_set.loc[l,'label']==noise_set.loc[l,'label2']):\n",
    "            noise_set.loc[l,'label2']=(noise_set.loc[l,'label']+1) % (df.label.max()+1)\n",
    "    noise=noise_set.drop(['label'],axis=1)\n",
    "    noise.rename(columns={'label2':'label'}, inplace = True)\n",
    "    data= pd.concat([data_cut,noise],axis=0,ignore_index=True) #含噪声数据集\n",
    "\n",
    "    data=np.array(data)\n",
    "    kdt = KdTree()\n",
    "    kdt.create(data)\n",
    "    # kdt.preOrder(kdt.KdTree)\n",
    "\n",
    "\n",
    "    dist2=[]\n",
    "    data2=np.array(df.drop('label',axis=1))\n",
    "    for m in range(0,len(data2)):\n",
    "        for n in range(m+1,len(data2)):\n",
    "             dist2.append(sqrt(sum((data[m] - data[n]) ** 2 )))\n",
    "    F1 = []\n",
    "    for d in range(1,61):\n",
    "        a = np.percentile(dist2,d) #密度阈值(%k分位数)\n",
    "        #print('a值：',d)\n",
    "\n",
    "        temp=[]\n",
    "        for k in range(1,61):\n",
    "            #print('k值：',k)\n",
    "            x1 = np.array([[1,1],[1,-1]])\n",
    "            x2 = np.array([1,np.floor(k / 3)/ k])\n",
    "            (Ps_,Pd_)=np.linalg.solve(x1,x2)\n",
    "            H_ = -Ps_* np.log2(Ps_)-Pd_*np.log2(Pd_) #标签混合程度阈值\n",
    "\n",
    "            Dn = []\n",
    "            for x in data:\n",
    "                #plt.scatter(x[0], x[1], c='red', marker='x')  # 测试点\n",
    "                near, belong = kdt.search(x[:-1], k+1)  # 设置临近点的个数\n",
    "                #print(\"test:\")\n",
    "               # print(x, \"predict:\", belong)\n",
    "               # print(\"nearest:\")\n",
    "                density = 0\n",
    "                t = 0\n",
    "                for n in near:\n",
    "                    #print(n[1].data, \"dist:\", n[0])\n",
    "                    #plt.scatter(n[1].data[0], n[1].data[1], c='green', marker='+')  # k个最近邻点\n",
    "                    density += n[0]  #密度\n",
    "                    if (x[-1] == n[1].data[-1])&(x != n[1].data)is True:\n",
    "                        t += 1\n",
    "                Ps = t / k\n",
    "                Pd = 1 - Ps\n",
    "                if (Ps==1)|(Ps==0):\n",
    "                    H = 0\n",
    "                else:\n",
    "                    H = -Ps* np.log2(Ps)-Pd*np.log2(Pd)\n",
    "\n",
    "               # print(densit)\n",
    "                if (density <= a): #高密度区域\n",
    "                    if x[-1] != belong:\n",
    "                        Dn.append(list(x))\n",
    "                        #print('高密度区域噪声')\n",
    "\n",
    "                else:\n",
    "                    if (H <= H_): #低密度单一标签区域\n",
    "                        if x[-1] != belong:\n",
    "                            Dn.append(list(x))\n",
    "                           # print('H:',H)\n",
    "                           # print('低密度单一区域噪声')\n",
    "                    else: #低密度混合标签区域\n",
    "                        hon,hen= -1,0\n",
    "                        dist_hon,dist_hen = 0,0\n",
    "                        for n in near:\n",
    "                            if x[-1]==n[-1].data[-1]:\n",
    "                                hon += 1\n",
    "                                dist_hon += n[0]\n",
    "                            else:\n",
    "                                hen +=1\n",
    "                                dist_hen += n[0]\n",
    "                        if (dist_hon / hon) / (dist_hen / hen) > 1.2:\n",
    "                            Dn.append(list(x))\n",
    "                           # print('H:',H)\n",
    "                           # print('低密度混合标签区域噪声')\n",
    "\n",
    "            #print('标签噪声：',Dn)\n",
    "            noise_list=noise.values.tolist()\n",
    "            TP = 0\n",
    "            for c in Dn:\n",
    "                if c in noise_list:\n",
    "                    TP += 1\n",
    "            FP = len(Dn) - TP\n",
    "            FN = len(noise_list) - TP\n",
    "            precision= TP / (TP + FP)\n",
    "            recall= TP / (TP + FN)\n",
    "            f1=2 * (precision * recall) / (precision + recall)\n",
    "            temp.append(f1) #F1值\n",
    "        F1.append(temp)\n",
    "    return F1\n"
   ]
  },
  {
   "cell_type": "code",
   "execution_count": 4,
   "metadata": {},
   "outputs": [],
   "source": [
    "def plot_fscore(F_score):\n",
    "    F_source=pd.DataFrame(F_score)\n",
    "    f, ax = plt.subplots(figsize=(6,6))\n",
    "#cmap = sns.cubehelix_palette(start = 1.5, rot = 3, gamma=0.8, as_cmap = True)\n",
    "    h=sns.heatmap(F_source, linewidths = 0.01, ax=ax,cbar=False)\n",
    "    font = {'family' : 'serif',\n",
    "            'color'  : 'darkred',\n",
    "            'weight' : 'normal',\n",
    "            'size'   : 16,\n",
    "            }\n",
    "    cb=h.figure.colorbar(h.collections[0])\n",
    "    cb.ax.tick_params(labelsize=12)#设置色标刻度字体大小\n",
    "    cb.set_label('F1',fontdict=font)\n",
    "   # ax1.set_title('(a)Iris',fontsize=20)\n",
    "    ax.set_xlabel('k',fontsize=20)\n",
    "    ax.set_ylabel('a',fontsize=20)\n",
    "    ax.axis([0,60,0,60])\n",
    "    plt.xticks([0,20,40,60],['0','20','40','60'],fontsize=12)                         \n",
    "    plt.yticks([20,40,60],['20','40','60'],fontsize=12)\n",
    "    plt.show()\n"
   ]
  },
  {
   "cell_type": "code",
   "execution_count": 3,
   "metadata": {},
   "outputs": [
    {
     "name": "stdout",
     "output_type": "stream",
     "text": [
      "Wall time: 36min 40s\n"
     ]
    }
   ],
   "source": [
    "%%time\n",
    "from sklearn.datasets import load_iris\n",
    "iris = load_iris()\n",
    "iris_sample= pd.DataFrame(iris.data, columns=iris.feature_names)\n",
    "iris_sample['label'] = iris.target\n",
    "iris_F1=run(iris_sample)"
   ]
  },
  {
   "cell_type": "code",
   "execution_count": 4,
   "metadata": {},
   "outputs": [
    {
     "data": {
      "image/png": "[encoded data removed]",
      "text/plain": [
       "<Figure size 432x432 with 2 Axes>"
      ]
     },
     "metadata": {
      "needs_background": "light"
     },
     "output_type": "display_data"
    }
   ],
   "source": [
    "iris_source=pd.DataFrame(iris_F1)\n",
    "f, ax1 = plt.subplots(figsize=(6,6))\n",
    "#cmap = sns.cubehelix_palette(start = 1.5, rot = 3, gamma=0.8, as_cmap = True)\n",
    "h=sns.heatmap(iris_source, linewidths = 0.01, ax=ax1,cbar=False)\n",
    "font = {'family' : 'serif',\n",
    "        'color'  : 'darkred',\n",
    "        'weight' : 'normal',\n",
    "        'size'   : 16,\n",
    "        }\n",
    "cb=h.figure.colorbar(h.collections[0])\n",
    "cb.ax.tick_params(labelsize=12)#设置色标刻度字体大小\n",
    "cb.set_label('F1',fontdict=font)\n",
    "ax1.set_title('(a)Iris',fontsize=20)\n",
    "ax1.set_xlabel('k',fontsize=20)\n",
    "ax1.set_ylabel('a',fontsize=20)\n",
    "ax1.axis([0,60,0,60])\n",
    "plt.xticks([0,20,40,60],['0','20','40','60'],fontsize=12)                         \n",
    "plt.yticks([20,40,60],['20','40','60'],fontsize=12)\n",
    "plt.show()"
   ]
  },
  {
   "cell_type": "code",
   "execution_count": 12,
   "metadata": {},
   "outputs": [
    {
     "name": "stdout",
     "output_type": "stream",
     "text": [
      "Wall time: 1h 48min 58s\n"
     ]
    }
   ],
   "source": [
    "%%time\n",
    "from sklearn import preprocessing\n",
    "from sklearn.datasets import load_wine\n",
    "min_max_scaler=preprocessing.MinMaxScaler()\n",
    "wine= load_wine()\n",
    "wine_sample = pd.DataFrame(wine.data, columns=wine.feature_names)\n",
    "wine_sample = pd.DataFrame(min_max_scaler.fit_transform(np.array(wine_sample)))\n",
    "wine_sample['label'] = wine.target\n",
    "wine_F1=run(wine_sample)"
   ]
  },
  {
   "cell_type": "code",
   "execution_count": 13,
   "metadata": {},
   "outputs": [
    {
     "data": {
      "image/png": "[encoded data removed]",
      "text/plain": [
       "<Figure size 432x432 with 2 Axes>"
      ]
     },
     "metadata": {
      "needs_background": "light"
     },
     "output_type": "display_data"
    }
   ],
   "source": [
    "wine_source=pd.DataFrame(wine_F1)\n",
    "f2, ax2 = plt.subplots(figsize=(6,6))\n",
    "#cmap = sns.cubehelix_palette(start = 1.5, rot = 3, gamma=0.8, as_cmap = True)\n",
    "h2=sns.heatmap(wine_source, linewidths = 0.01, ax=ax2,cbar=False)\n",
    "font = {'family' : 'serif',\n",
    "        'color'  : 'darkred',\n",
    "        'weight' : 'normal',\n",
    "        'size'   : 16,\n",
    "        }\n",
    "cb2=h2.figure.colorbar(h2.collections[0])\n",
    "cb2.ax.tick_params(labelsize=12)#设置色标刻度字体大小\n",
    "cb2.set_label('F1',fontdict=font)\n",
    "ax2.set_title('(b)Wine',fontsize=20)\n",
    "ax2.set_xlabel('k',fontsize=20)\n",
    "ax2.set_ylabel('a',fontsize=20)\n",
    "ax2.axis([0,60,0,60])\n",
    "plt.xticks([0,20,40,60],['0','20','40','60'],fontsize=12)                         \n",
    "plt.yticks([20,40,60],['20','40','60'],fontsize=12)\n",
    "plt.show()"
   ]
  },
  {
   "cell_type": "code",
   "execution_count": 14,
   "metadata": {},
   "outputs": [
    {
     "name": "stdout",
     "output_type": "stream",
     "text": [
      "Wall time: 1h 30min 25s\n"
     ]
    }
   ],
   "source": [
    "%%time\n",
    "seeds=pd.read_table('./mydata/Seed.txt',engine='python')\n",
    "seeds.columns=(['area','perimeter','compactness','length of kernel','width of kernel','asymmetry coefficient','length of kernel groove','label'])\n",
    "seeds_sample=seeds[['area','perimeter','compactness','length of kernel','width of kernel','asymmetry coefficient','length of kernel groove']]\n",
    "seeds_sample=pd.DataFrame(min_max_scaler.fit_transform(np.array(seeds_sample)))\n",
    "seeds_sample['label']=seeds.label\n",
    "seeds_F1=run(seeds_sample)"
   ]
  },
  {
   "cell_type": "code",
   "execution_count": 18,
   "metadata": {},
   "outputs": [
    {
     "data": {
      "image/png": "[encoded data removed]",
      "text/plain": [
       "<Figure size 432x432 with 2 Axes>"
      ]
     },
     "metadata": {
      "needs_background": "light"
     },
     "output_type": "display_data"
    }
   ],
   "source": [
    "seeds_source=pd.DataFrame(seeds_F1)\n",
    "f3, ax3 = plt.subplots(figsize=(6,6))\n",
    "#cmap = sns.cubehelix_palette(start = 1.5, rot = 3, gamma=0.8, as_cmap = True)\n",
    "h3=sns.heatmap(seeds_source, linewidths = 0.01, ax=ax3,cbar=False)\n",
    "font = {'family' : 'serif',\n",
    "        'color'  : 'darkred',\n",
    "        'weight' : 'normal',\n",
    "        'size'   : 16,\n",
    "        }\n",
    "cb3=h3.figure.colorbar(h3.collections[0])\n",
    "cb3.ax.tick_params(labelsize=12)#设置色标刻度字体大小\n",
    "cb3.set_label('F1',fontdict=font)\n",
    "ax3.set_title('(c)Seeds',fontsize=20)\n",
    "ax3.set_xlabel('k',fontsize=20)\n",
    "ax3.set_ylabel('a',fontsize=20)\n",
    "ax3.axis([0,60,0,60])\n",
    "plt.xticks([0,20,40,60],['0','20','40','60'],fontsize=12)                         \n",
    "plt.yticks([20,40,60],['20','40','60'],fontsize=12)\n",
    "plt.show()"
   ]
  },
  {
   "cell_type": "code",
   "execution_count": null,
   "metadata": {},
   "outputs": [],
   "source": [
    "%%time\n",
    "cmc=pd.read_table('./mydata/contraception.txt',sep=',')\n",
    "cmc.columns=(['wife_age','wife_edu','husband_edu','num_child','wife_religion','wife_work_station','husband_occupation','living_level','media_exposure','label'])\n",
    "cmc.drop_duplicates(inplace=True)#删除重复数据\n",
    "cmc_sample=cmc[['wife_age','wife_edu','husband_edu','num_child','wife_religion','wife_work_station','husband_occupation','living_level','media_exposure']]\n",
    "cmc_sample=pd.DataFrame(min_max_scaler.fit_transform(np.array(cmc_sample)))\n",
    "cmc_sample['label']=list(cmc.label-1) # 不加list标签会出错\n",
    "cmc_F1=run(cmc_sample)"
   ]
  },
  {
   "cell_type": "code",
   "execution_count": null,
   "metadata": {},
   "outputs": [],
   "source": [
    "plot_fscore(cmc_F1)"
   ]
  },
  {
   "cell_type": "code",
   "execution_count": null,
   "metadata": {},
   "outputs": [],
   "source": []
  }
 ],
 "metadata": {
  "kernelspec": {
   "display_name": "Python 3",
   "language": "python",
   "name": "python3"
  },
  "language_info": {
   "codemirror_mode": {
    "name": "ipython",
    "version": 3
   },
   "file_extension": ".py",
   "mimetype": "text/x-python",
   "name": "python",
   "nbconvert_exporter": "python",
   "pygments_lexer": "ipython3",
   "version": "3.7.4"
  }
 },
 "nbformat": 4,
 "nbformat_minor": 2
}
