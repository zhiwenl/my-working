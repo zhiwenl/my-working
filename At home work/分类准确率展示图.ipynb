{
 "cells": [
  {
   "cell_type": "code",
   "execution_count": 20,
   "metadata": {},
   "outputs": [
    {
     "name": "stdout",
     "output_type": "stream",
     "text": [
      "Using matplotlib backend: Qt5Agg\n"
     ]
    }
   ],
   "source": [
    "%matplotlib\n",
    "from matplotlib import pyplot as plt\n",
    "# 创建一个窗口, 并设置分辨率为 80像素/每英寸\n",
    "ax=plt.figure(figsize=(5, 10), dpi=80)\n",
    "x=[0,1,2,3,4,5]\n",
    "y=[1,2,3,4,5,6,7,8,9,10,11,12]\n",
    "plt.xticks([0,1,2,3,4,5],['0','5','10','20','30','40'])\n",
    "plt.yticks([1,2,3,4,5,6,7,8,9,10,11,12],['Pen','Letter','Vowel','Yeast','Thyroid','Statlog','Image','Ecoli','Glass','Seeds','Wine','Iris'])\n",
    "for x in range(1,6):\n",
    "    for y in range(1,13):\n",
    "        plt.scatter(x,y,marker='o',color='green') \n",
    "plt.scatter(1,12,marker='o',color='green',label='DDF-NOS') #%5噪声\n",
    "plt.scatter(1,11,marker='o',color='red',label='DDF')\n",
    "plt.scatter(1,10,marker='o',color='red')\n",
    "plt.scatter(1,5,marker='o',color='red')\n",
    "plt.scatter(2,9,marker='o',color='red') #10%噪声\n",
    "plt.scatter(3,9,marker='o',color='red')#20%\n",
    "plt.scatter(3,10,marker='o',color='red')\n",
    "plt.scatter(3,11,marker='o',color='red')\n",
    "plt.scatter(4,2,marker='o',color='red')#%30\n",
    "plt.scatter(4,8,marker='o',color='red')\n",
    "plt.scatter(4,10,marker='o',color='red')\n",
    "plt.scatter(4,11,marker='o',color='red')\n",
    "plt.scatter(5,2,marker='o',color='red')#%40\n",
    "plt.scatter(5,5,marker='o',color='red')\n",
    "plt.scatter(5,12,marker='o',color='red')\n",
    "plt.xlabel('noise rate/%')\n",
    "plt.ylabel('Dataset')\n",
    "plt.legend(bbox_to_anchor=(0.5, 1.05), loc='center', borderaxespad=0,ncol=2)\n",
    "plt.show()"
   ]
  },
  {
   "cell_type": "code",
   "execution_count": null,
   "metadata": {},
   "outputs": [],
   "source": []
  }
 ],
 "metadata": {
  "kernelspec": {
   "display_name": "Python 3",
   "language": "python",
   "name": "python3"
  },
  "language_info": {
   "codemirror_mode": {
    "name": "ipython",
    "version": 3
   },
   "file_extension": ".py",
   "mimetype": "text/x-python",
   "name": "python",
   "nbconvert_exporter": "python",
   "pygments_lexer": "ipython3",
   "version": "3.6.5"
  }
 },
 "nbformat": 4,
 "nbformat_minor": 2
}
